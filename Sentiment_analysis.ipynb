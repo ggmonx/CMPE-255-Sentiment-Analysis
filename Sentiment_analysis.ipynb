{
 "cells": [
  {
   "cell_type": "markdown",
   "id": "642662b9",
   "metadata": {},
   "source": [
    "# Code adapted from\n",
    "* https://dzlab.github.io/dltips/en/pytorch/torchtext-datasets/ to use custom dataset\n",
    "* https://github.com/bentrevett/pytorch-sentiment-analysis/blob/master/3%20-%20Faster%20Sentiment%20Analysis.ipynb to use model"
   ]
  },
  {
   "cell_type": "code",
   "execution_count": 1,
   "id": "10330d54",
   "metadata": {},
   "outputs": [],
   "source": [
    "CLASS_WEIGHT= 0.12744395919192275"
   ]
  },
  {
   "cell_type": "code",
   "execution_count": 2,
   "id": "97b8aabb",
   "metadata": {},
   "outputs": [],
   "source": [
    "def generate_bigrams(x):\n",
    "    n_grams = set(zip(*[x[i:] for i in range(2)]))\n",
    "    for n_gram in n_grams:\n",
    "        x.append(' '.join(n_gram))\n",
    "    return x"
   ]
  },
  {
   "cell_type": "code",
   "execution_count": 3,
   "id": "c290b7fc",
   "metadata": {},
   "outputs": [],
   "source": [
    "import torch\n",
    "from torchtext.legacy import data\n",
    "from torchtext.legacy import datasets\n",
    "\n",
    "SEED = 1234\n",
    "\n",
    "torch.manual_seed(SEED)\n",
    "torch.backends.cudnn.deterministic = True\n",
    "\n",
    "TEXT = data.Field(tokenize = 'spacy',\n",
    "                  tokenizer_language = 'en_core_web_sm',\n",
    "                  preprocessing = generate_bigrams)\n",
    "\n",
    "LABEL = data.LabelField(dtype = torch.float)"
   ]
  },
  {
   "cell_type": "code",
   "execution_count": 4,
   "id": "6a1d58df",
   "metadata": {},
   "outputs": [],
   "source": [
    "BATCH_SIZE = 128#64\n",
    "\n",
    "device = torch.device('cuda' if torch.cuda.is_available() else 'cpu')\n",
    "\n",
    "train, val, test = data.TabularDataset.splits(\n",
    "    path='./data', train='Train.csv',\n",
    "    validation='Val.csv', test='Test.csv', format='csv',\n",
    "    fields=[('text', TEXT),(None, None), ('label', LABEL)],\n",
    "    skip_header = True)# ignore helpfulness column\n",
    "    # columns are Text, helpfulness, and rating\n",
    "\n",
    "train_iter, val_iter, test_iter = data.BucketIterator.splits(\n",
    "    (train, val, test), batch_sizes=(BATCH_SIZE,BATCH_SIZE,BATCH_SIZE),\n",
    "    sort_key=lambda x: len(x.text), device = device)"
   ]
  },
  {
   "cell_type": "code",
   "execution_count": 5,
   "id": "cf810c52",
   "metadata": {},
   "outputs": [],
   "source": [
    "MAX_VOCAB_SIZE = 50_000\n",
    "\n",
    "TEXT.build_vocab(train, \n",
    "                 max_size = MAX_VOCAB_SIZE, \n",
    "                 vectors = \"glove.6B.100d\", \n",
    "                 unk_init = torch.Tensor.normal_)\n",
    "\n",
    "LABEL.build_vocab(train)"
   ]
  },
  {
   "cell_type": "code",
   "execution_count": 6,
   "id": "3e310f5f",
   "metadata": {},
   "outputs": [],
   "source": [
    "import torch.nn as nn\n",
    "import torch.nn.functional as F\n",
    "\n",
    "class FastText(nn.Module):\n",
    "    def __init__(self, vocab_size, embedding_dim, output_dim, pad_idx):\n",
    "        \n",
    "        super().__init__()\n",
    "        \n",
    "        self.embedding = nn.Embedding(vocab_size, embedding_dim, padding_idx=pad_idx)\n",
    "        \n",
    "        self.fc = nn.Linear(embedding_dim, output_dim)\n",
    "        \n",
    "    def forward(self, text):\n",
    "        \n",
    "        #text = [sent len, batch size]\n",
    "        \n",
    "        embedded = self.embedding(text)\n",
    "                \n",
    "        #embedded = [sent len, batch size, emb dim]\n",
    "        \n",
    "        embedded = embedded.permute(1, 0, 2)\n",
    "        \n",
    "        #embedded = [batch size, sent len, emb dim]\n",
    "        \n",
    "        pooled = F.avg_pool2d(embedded, (embedded.shape[1], 1)).squeeze(1) \n",
    "        \n",
    "        #pooled = [batch size, embedding_dim]\n",
    "                \n",
    "        return self.fc(pooled)"
   ]
  },
  {
   "cell_type": "code",
   "execution_count": 7,
   "id": "7ba5a606",
   "metadata": {},
   "outputs": [],
   "source": [
    "INPUT_DIM = len(TEXT.vocab)\n",
    "EMBEDDING_DIM = 100\n",
    "OUTPUT_DIM = 1\n",
    "PAD_IDX = TEXT.vocab.stoi[TEXT.pad_token]\n",
    "\n",
    "#model = FastText(INPUT_DIM, EMBEDDING_DIM, OUTPUT_DIM, PAD_IDX)"
   ]
  },
  {
   "cell_type": "code",
   "execution_count": 8,
   "id": "8a147424",
   "metadata": {},
   "outputs": [],
   "source": [
    "def binary_accuracy(preds, y):\n",
    "    \"\"\"\n",
    "    Returns accuracy per batch, i.e. if you get 8/10 right, this returns 0.8, NOT 8\n",
    "    \"\"\"\n",
    "\n",
    "    #round predictions to the closest integer\n",
    "    rounded_preds = torch.round(torch.sigmoid(preds))\n",
    "    correct = (rounded_preds == y).float() #convert into float for division \n",
    "    acc = correct.sum() / len(correct)\n",
    "    return acc, rounded_preds"
   ]
  },
  {
   "cell_type": "code",
   "execution_count": 9,
   "id": "7703a303",
   "metadata": {},
   "outputs": [],
   "source": [
    "def train(model, iterator, optimizer, criterion):\n",
    "    \n",
    "    epoch_loss = 0\n",
    "    epoch_acc = 0\n",
    "    \n",
    "    model.train()\n",
    "    preds=[]\n",
    "    labels=[]\n",
    "    for batch in iterator:\n",
    "        \n",
    "        optimizer.zero_grad()\n",
    "        \n",
    "        predictions = model(batch.text).squeeze(1)\n",
    "        \n",
    "        loss = criterion(predictions, batch.label)\n",
    "        \n",
    "        acc, rounded_preds = binary_accuracy(predictions, batch.label)\n",
    "        preds.extend(rounded_preds.detach().to('cpu').numpy())\n",
    "        labels.extend(batch.label.detach().to('cpu').numpy())\n",
    "        loss.backward()\n",
    "        \n",
    "        optimizer.step()\n",
    "        \n",
    "        epoch_loss += loss.item()\n",
    "        epoch_acc += acc.item()\n",
    "        \n",
    "    return epoch_loss / len(iterator), epoch_acc / len(iterator), preds, labels"
   ]
  },
  {
   "cell_type": "code",
   "execution_count": 10,
   "id": "4b70f193",
   "metadata": {},
   "outputs": [],
   "source": [
    "def evaluate(model, iterator, criterion):\n",
    "    \n",
    "    epoch_loss = 0\n",
    "    epoch_acc = 0\n",
    "    \n",
    "    model.eval()\n",
    "    preds=[]\n",
    "    labels=[]\n",
    "    with torch.no_grad():\n",
    "    \n",
    "        for batch in iterator:\n",
    "\n",
    "            predictions = model(batch.text).squeeze(1)\n",
    "            loss = criterion(predictions, batch.label)\n",
    "            \n",
    "            acc, rounded_preds = binary_accuracy(predictions, batch.label)\n",
    "            preds.extend(rounded_preds.detach().to('cpu').numpy())\n",
    "            labels.extend(batch.label.detach().to('cpu').numpy())\n",
    "            epoch_loss += loss.item()\n",
    "            epoch_acc += acc.item()\n",
    "        \n",
    "    return epoch_loss / len(iterator), epoch_acc / len(iterator), preds, labels"
   ]
  },
  {
   "cell_type": "code",
   "execution_count": 11,
   "id": "ea80e259",
   "metadata": {},
   "outputs": [],
   "source": [
    "import time\n",
    "\n",
    "def epoch_time(start_time, end_time):\n",
    "    elapsed_time = end_time - start_time\n",
    "    elapsed_mins = int(elapsed_time / 60)\n",
    "    elapsed_secs = int(elapsed_time - (elapsed_mins * 60))\n",
    "    return elapsed_mins, elapsed_secs"
   ]
  },
  {
   "cell_type": "code",
   "execution_count": 12,
   "id": "bcff7209",
   "metadata": {},
   "outputs": [],
   "source": [
    "from sklearn.metrics import f1_score, precision_score, recall_score\n",
    "import numpy as np\n",
    "from tqdm.notebook import  tqdm"
   ]
  },
  {
   "cell_type": "code",
   "execution_count": 13,
   "id": "a70e3967",
   "metadata": {},
   "outputs": [],
   "source": [
    "import torch.optim as optim\n",
    "\n",
    "\n",
    "def train_model(adam=0,lr=0.001,epochs=5):\n",
    "    # use base adam if adam <=0.5 otherwise use adamW with weight decay\n",
    "    model = FastText(INPUT_DIM, EMBEDDING_DIM, OUTPUT_DIM, PAD_IDX)\n",
    "    pretrained_embeddings = TEXT.vocab.vectors\n",
    "    model.embedding.weight.data.copy_(pretrained_embeddings)\n",
    "    UNK_IDX = TEXT.vocab.stoi[TEXT.unk_token]\n",
    "    model.embedding.weight.data[UNK_IDX] = torch.zeros(EMBEDDING_DIM)\n",
    "    model.embedding.weight.data[PAD_IDX] = torch.zeros(EMBEDDING_DIM)\n",
    "    \n",
    "    optimizer = optim.Adam(model.parameters(),lr=lr) if adam<=0.5 else optim.AdamW(model.parameters(),lr=lr)\n",
    "    criterion = nn.BCEWithLogitsLoss(pos_weight=torch.tensor([CLASS_WEIGHT]))\n",
    "    model = model.to(device)\n",
    "    criterion = criterion.to(device)\n",
    "    N_EPOCHS = round(epochs)\n",
    "    #best_valid_loss = float('inf')\n",
    "    start_time = time.time()\n",
    "    for epoch in tqdm(range(N_EPOCHS)):\n",
    "\n",
    "        \n",
    "\n",
    "        train_loss, train_acc, t_preds, t_labels = train(model, train_iter, optimizer, criterion)\n",
    "        valid_loss, valid_acc, v_preds, v_labels = evaluate(model, val_iter, criterion)\n",
    "        f1 = f1_score(v_labels, v_preds, average=\"macro\")\n",
    "       \n",
    "        #print('gt: {}'.format(np.unique(v_labels)))\n",
    "        #print('preds: {}'.format(np.unique(v_preds)))\n",
    "        \n",
    "       # if valid_loss < best_valid_loss:\n",
    "       #     best_valid_loss = valid_loss\n",
    "       #     torch.save(model.state_dict(), 'sentiment.pt')\n",
    "        \n",
    "        #print(f'Epoch: {epoch+1:02}')# | Epoch Time: {epoch_mins}m {epoch_secs}s'\n",
    "        #print(f'\\tTrain Loss: {train_loss:.3f} | Train Acc: {train_acc*100:.2f}%')\n",
    "        #print(f'\\t Val. Loss: {valid_loss:.3f} |  Val. Acc: {valid_acc*100:.2f}%')\n",
    "    end_time = time.time()\n",
    "    epoch_mins, epoch_secs = epoch_time(start_time, end_time)\n",
    "    print('F1: {}'.format(f1))\n",
    "    print('Precision: {}'.format(precision_score(v_labels, v_preds, average=\"macro\")))\n",
    "    print('Recall: {}'.format(recall_score(v_labels, v_preds, average=\"macro\")))\n",
    "    print(f'Total Train time for {N_EPOCHS} epochs: {epoch_mins}m {epoch_secs}s')\n",
    "    print(\"------------------------------------------------------------\")\n",
    "    return f1\n",
    "    \n",
    "    "
   ]
  },
  {
   "cell_type": "code",
   "execution_count": 14,
   "id": "8809f1e6",
   "metadata": {},
   "outputs": [
    {
     "data": {
      "application/vnd.jupyter.widget-view+json": {
       "model_id": "51cfe040b95448aeac23c2a925677175",
       "version_major": 2,
       "version_minor": 0
      },
      "text/plain": [
       "  0%|          | 0/1 [00:00<?, ?it/s]"
      ]
     },
     "metadata": {},
     "output_type": "display_data"
    },
    {
     "name": "stdout",
     "output_type": "stream",
     "text": [
      "F1: 0.4522696133913147\n",
      "Precision: 0.4128803328167061\n",
      "Recall: 0.49996707385334693\n",
      "Total Train time for 1 epochs: 1m 52s\n",
      "------------------------------------------------------------\n"
     ]
    },
    {
     "data": {
      "text/plain": [
       "0.4522696133913147"
      ]
     },
     "execution_count": 14,
     "metadata": {},
     "output_type": "execute_result"
    }
   ],
   "source": [
    "train_model(epochs=1)"
   ]
  },
  {
   "cell_type": "code",
   "execution_count": 15,
   "id": "7ccd089f",
   "metadata": {},
   "outputs": [
    {
     "name": "stdout",
     "output_type": "stream",
     "text": [
      "|   iter    |  target   |   adam    |  epochs   |    lr     |\n",
      "-------------------------------------------------------------\n"
     ]
    },
    {
     "data": {
      "application/vnd.jupyter.widget-view+json": {
       "model_id": "1ebb37c47360477eb635ec9bfc255177",
       "version_major": 2,
       "version_minor": 0
      },
      "text/plain": [
       "  0%|          | 0/9 [00:00<?, ?it/s]"
      ]
     },
     "metadata": {},
     "output_type": "display_data"
    },
    {
     "name": "stdout",
     "output_type": "stream",
     "text": [
      "F1: 0.7882371187235566\n",
      "Precision: 0.8161964810237439\n",
      "Recall: 0.7674657193664922\n",
      "Total Train time for 9 epochs: 15m 25s\n",
      "------------------------------------------------------------\n",
      "| \u001b[0m 1       \u001b[0m | \u001b[0m 0.7882  \u001b[0m | \u001b[0m 0.1915  \u001b[0m | \u001b[0m 8.599   \u001b[0m | \u001b[0m 0.02189 \u001b[0m |\n"
     ]
    },
    {
     "data": {
      "application/vnd.jupyter.widget-view+json": {
       "model_id": "e7a95cab523b418bb2529dbecd847af4",
       "version_major": 2,
       "version_minor": 0
      },
      "text/plain": [
       "  0%|          | 0/10 [00:00<?, ?it/s]"
      ]
     },
     "metadata": {},
     "output_type": "display_data"
    },
    {
     "name": "stdout",
     "output_type": "stream",
     "text": [
      "F1: 0.7928496176800536\n",
      "Precision: 0.8118243428464358\n",
      "Recall: 0.7774828229444901\n",
      "Total Train time for 10 epochs: 17m 15s\n",
      "------------------------------------------------------------\n",
      "| \u001b[95m 2       \u001b[0m | \u001b[95m 0.7928  \u001b[0m | \u001b[95m 0.7854  \u001b[0m | \u001b[95m 10.02   \u001b[0m | \u001b[95m 0.01364 \u001b[0m |\n"
     ]
    },
    {
     "data": {
      "application/vnd.jupyter.widget-view+json": {
       "model_id": "6f1a23c7767a4463bbb26b04f04d63f3",
       "version_major": 2,
       "version_minor": 0
      },
      "text/plain": [
       "  0%|          | 0/10 [00:00<?, ?it/s]"
      ]
     },
     "metadata": {},
     "output_type": "display_data"
    },
    {
     "name": "stdout",
     "output_type": "stream",
     "text": [
      "F1: 0.7878713895836493\n",
      "Precision: 0.8121770342329044\n",
      "Recall: 0.7692258705982158\n",
      "Total Train time for 10 epochs: 17m 4s\n",
      "------------------------------------------------------------\n",
      "| \u001b[0m 3       \u001b[0m | \u001b[0m 0.7879  \u001b[0m | \u001b[0m 0.2765  \u001b[0m | \u001b[0m 10.22   \u001b[0m | \u001b[0m 0.04791 \u001b[0m |\n"
     ]
    },
    {
     "data": {
      "application/vnd.jupyter.widget-view+json": {
       "model_id": "efd61bc6e99b46929ef40268ceabb169",
       "version_major": 2,
       "version_minor": 0
      },
      "text/plain": [
       "  0%|          | 0/9 [00:00<?, ?it/s]"
      ]
     },
     "metadata": {},
     "output_type": "display_data"
    },
    {
     "name": "stdout",
     "output_type": "stream",
     "text": [
      "F1: 0.7772568324321255\n",
      "Precision: 0.8135290736931383\n",
      "Recall: 0.7524752544181976\n",
      "Total Train time for 9 epochs: 15m 1s\n",
      "------------------------------------------------------------\n",
      "| \u001b[0m 4       \u001b[0m | \u001b[0m 0.7773  \u001b[0m | \u001b[0m 0.7809  \u001b[0m | \u001b[0m 9.317   \u001b[0m | \u001b[0m 0.04597 \u001b[0m |\n"
     ]
    },
    {
     "data": {
      "application/vnd.jupyter.widget-view+json": {
       "model_id": "b9b3503893ba462e8a7ca3399773fb53",
       "version_major": 2,
       "version_minor": 0
      },
      "text/plain": [
       "  0%|          | 0/10 [00:00<?, ?it/s]"
      ]
     },
     "metadata": {},
     "output_type": "display_data"
    },
    {
     "name": "stdout",
     "output_type": "stream",
     "text": [
      "F1: 0.7902685023582146\n",
      "Precision: 0.8094852418559227\n",
      "Recall: 0.7747745531803376\n",
      "Total Train time for 10 epochs: 16m 51s\n",
      "------------------------------------------------------------\n",
      "| \u001b[0m 5       \u001b[0m | \u001b[0m 0.7903  \u001b[0m | \u001b[0m 0.6363  \u001b[0m | \u001b[0m 10.08   \u001b[0m | \u001b[0m 0.02645 \u001b[0m |\n"
     ]
    },
    {
     "data": {
      "application/vnd.jupyter.widget-view+json": {
       "model_id": "3eed9fb5e2f74cba8f7aabd6a430ff11",
       "version_major": 2,
       "version_minor": 0
      },
      "text/plain": [
       "  0%|          | 0/10 [00:00<?, ?it/s]"
      ]
     },
     "metadata": {},
     "output_type": "display_data"
    },
    {
     "name": "stdout",
     "output_type": "stream",
     "text": [
      "F1: 0.4522859270290394\n",
      "Precision: 0.4128850702846733\n"
     ]
    },
    {
     "name": "stderr",
     "output_type": "stream",
     "text": [
      "C:\\Users\\Gaston\\Anaconda3\\envs\\sentan\\lib\\site-packages\\sklearn\\metrics\\_classification.py:1245: UndefinedMetricWarning: Precision is ill-defined and being set to 0.0 in labels with no predicted samples. Use `zero_division` parameter to control this behavior.\n",
      "  _warn_prf(average, modifier, msg_start, len(result))\n"
     ]
    },
    {
     "name": "stdout",
     "output_type": "stream",
     "text": [
      "Recall: 0.5\n",
      "Total Train time for 10 epochs: 17m 3s\n",
      "------------------------------------------------------------\n",
      "| \u001b[0m 6       \u001b[0m | \u001b[0m 0.4523  \u001b[0m | \u001b[0m 1.0     \u001b[0m | \u001b[0m 10.27   \u001b[0m | \u001b[0m 1e-05   \u001b[0m |\n"
     ]
    },
    {
     "data": {
      "application/vnd.jupyter.widget-view+json": {
       "model_id": "061165bb13dd4b699916d41a23036f3a",
       "version_major": 2,
       "version_minor": 0
      },
      "text/plain": [
       "  0%|          | 0/10 [00:00<?, ?it/s]"
      ]
     },
     "metadata": {},
     "output_type": "display_data"
    },
    {
     "name": "stdout",
     "output_type": "stream",
     "text": [
      "F1: 0.7910446601448151\n",
      "Precision: 0.8099496949159654\n",
      "Recall: 0.7757464380054713\n",
      "Total Train time for 10 epochs: 17m 16s\n",
      "------------------------------------------------------------\n",
      "| \u001b[0m 7       \u001b[0m | \u001b[0m 0.791   \u001b[0m | \u001b[0m 0.646   \u001b[0m | \u001b[0m 9.836   \u001b[0m | \u001b[0m 0.02526 \u001b[0m |\n"
     ]
    },
    {
     "data": {
      "application/vnd.jupyter.widget-view+json": {
       "model_id": "e91a26a5d9da4e1ca32f23d44834af97",
       "version_major": 2,
       "version_minor": 0
      },
      "text/plain": [
       "  0%|          | 0/10 [00:00<?, ?it/s]"
      ]
     },
     "metadata": {},
     "output_type": "display_data"
    },
    {
     "name": "stdout",
     "output_type": "stream",
     "text": [
      "F1: 0.4522859270290394\n",
      "Precision: 0.4128850702846733\n"
     ]
    },
    {
     "name": "stderr",
     "output_type": "stream",
     "text": [
      "C:\\Users\\Gaston\\Anaconda3\\envs\\sentan\\lib\\site-packages\\sklearn\\metrics\\_classification.py:1245: UndefinedMetricWarning: Precision is ill-defined and being set to 0.0 in labels with no predicted samples. Use `zero_division` parameter to control this behavior.\n",
      "  _warn_prf(average, modifier, msg_start, len(result))\n"
     ]
    },
    {
     "name": "stdout",
     "output_type": "stream",
     "text": [
      "Recall: 0.5\n",
      "Total Train time for 10 epochs: 16m 57s\n",
      "------------------------------------------------------------\n",
      "| \u001b[0m 8       \u001b[0m | \u001b[0m 0.4523  \u001b[0m | \u001b[0m 0.2939  \u001b[0m | \u001b[0m 9.891   \u001b[0m | \u001b[0m 1e-05   \u001b[0m |\n"
     ]
    },
    {
     "data": {
      "application/vnd.jupyter.widget-view+json": {
       "model_id": "820a5238fd784ce29becca0b29daf8f1",
       "version_major": 2,
       "version_minor": 0
      },
      "text/plain": [
       "  0%|          | 0/10 [00:00<?, ?it/s]"
      ]
     },
     "metadata": {},
     "output_type": "display_data"
    },
    {
     "name": "stdout",
     "output_type": "stream",
     "text": [
      "F1: 0.7873713494650416\n",
      "Precision: 0.8206142150987369\n",
      "Recall: 0.763776091487717\n",
      "Total Train time for 10 epochs: 16m 49s\n",
      "------------------------------------------------------------\n",
      "| \u001b[0m 9       \u001b[0m | \u001b[0m 0.7874  \u001b[0m | \u001b[0m 0.8328  \u001b[0m | \u001b[0m 9.83    \u001b[0m | \u001b[0m 0.006959\u001b[0m |\n"
     ]
    },
    {
     "data": {
      "application/vnd.jupyter.widget-view+json": {
       "model_id": "cd9c632e2e994493ac326108aa0c9534",
       "version_major": 2,
       "version_minor": 0
      },
      "text/plain": [
       "  0%|          | 0/4 [00:00<?, ?it/s]"
      ]
     },
     "metadata": {},
     "output_type": "display_data"
    },
    {
     "name": "stdout",
     "output_type": "stream",
     "text": [
      "F1: 0.7793408204249126\n",
      "Precision: 0.8249105271184313\n",
      "Recall: 0.7502916534835335\n",
      "Total Train time for 4 epochs: 6m 48s\n",
      "------------------------------------------------------------\n",
      "| \u001b[0m 10      \u001b[0m | \u001b[0m 0.7793  \u001b[0m | \u001b[0m 0.7424  \u001b[0m | \u001b[0m 4.485   \u001b[0m | \u001b[0m 0.03939 \u001b[0m |\n"
     ]
    },
    {
     "data": {
      "application/vnd.jupyter.widget-view+json": {
       "model_id": "82edf0316ced4aebb212041e1b266645",
       "version_major": 2,
       "version_minor": 0
      },
      "text/plain": [
       "  0%|          | 0/10 [00:00<?, ?it/s]"
      ]
     },
     "metadata": {},
     "output_type": "display_data"
    },
    {
     "name": "stdout",
     "output_type": "stream",
     "text": [
      "F1: 0.7874759622879242\n",
      "Precision: 0.8124598504189589\n",
      "Recall: 0.7684350795796738\n",
      "Total Train time for 10 epochs: 16m 46s\n",
      "------------------------------------------------------------\n",
      "| \u001b[0m 11      \u001b[0m | \u001b[0m 0.7875  \u001b[0m | \u001b[0m 0.4007  \u001b[0m | \u001b[0m 10.43   \u001b[0m | \u001b[0m 0.05    \u001b[0m |\n"
     ]
    },
    {
     "data": {
      "application/vnd.jupyter.widget-view+json": {
       "model_id": "9e1b2f0059b944188fe5a3ee117239d0",
       "version_major": 2,
       "version_minor": 0
      },
      "text/plain": [
       "  0%|          | 0/5 [00:00<?, ?it/s]"
      ]
     },
     "metadata": {},
     "output_type": "display_data"
    },
    {
     "name": "stdout",
     "output_type": "stream",
     "text": [
      "F1: 0.76270956893236\n",
      "Precision: 0.8370420930036653\n",
      "Recall: 0.7248895552494232\n",
      "Total Train time for 5 epochs: 8m 34s\n",
      "------------------------------------------------------------\n",
      "| \u001b[0m 12      \u001b[0m | \u001b[0m 0.7627  \u001b[0m | \u001b[0m 0.6257  \u001b[0m | \u001b[0m 5.063   \u001b[0m | \u001b[0m 0.03354 \u001b[0m |\n",
      "=============================================================\n"
     ]
    }
   ],
   "source": [
    "from bayes_opt import BayesianOptimization\n",
    "# Bounded region of parameter space\n",
    "pbounds = {'adam':(0,1),'lr': (0.00001, 0.05), 'epochs': (3, 12)}\n",
    "\n",
    "optimizer = BayesianOptimization(\n",
    "    f=train_model,\n",
    "    pbounds=pbounds,\n",
    "    random_state=SEED,\n",
    ")\n",
    "optimizer.maximize(\n",
    "    init_points=3,\n",
    "    n_iter=9,\n",
    ")"
   ]
  },
  {
   "cell_type": "code",
   "execution_count": 16,
   "id": "3313e1e9",
   "metadata": {},
   "outputs": [
    {
     "name": "stdout",
     "output_type": "stream",
     "text": [
      "Iteration 0: \n",
      "\t{'target': 0.7882371187235566, 'params': {'adam': 0.1915194503788923, 'epochs': 8.598978939358487, 'lr': 0.021892009672965652}}\n",
      "Iteration 1: \n",
      "\t{'target': 0.7928496176800536, 'params': {'adam': 0.7853585837137692, 'epochs': 10.019782273069232, 'lr': 0.013636904338079254}}\n",
      "Iteration 2: \n",
      "\t{'target': 0.7878713895836493, 'params': {'adam': 0.2764642551430967, 'epochs': 10.216849597815173, 'lr': 0.047907386290648425}}\n",
      "Iteration 3: \n",
      "\t{'target': 0.7772568324321255, 'params': {'adam': 0.7809393108395023, 'epochs': 9.31704812255748, 'lr': 0.04597356133128867}}\n",
      "Iteration 4: \n",
      "\t{'target': 0.7902685023582146, 'params': {'adam': 0.6362641870940634, 'epochs': 10.083466398155759, 'lr': 0.026447852578768315}}\n",
      "Iteration 5: \n",
      "\t{'target': 0.4522859270290394, 'params': {'adam': 1.0, 'epochs': 10.265971123103421, 'lr': 1e-05}}\n",
      "Iteration 6: \n",
      "\t{'target': 0.7910446601448151, 'params': {'adam': 0.6460486094712681, 'epochs': 9.835740241925215, 'lr': 0.02525844927997214}}\n",
      "Iteration 7: \n",
      "\t{'target': 0.4522859270290394, 'params': {'adam': 0.29389044878666404, 'epochs': 9.890812394920287, 'lr': 1e-05}}\n",
      "Iteration 8: \n",
      "\t{'target': 0.7873713494650416, 'params': {'adam': 0.8327533559613003, 'epochs': 9.829788378425325, 'lr': 0.0069585427952602455}}\n",
      "Iteration 9: \n",
      "\t{'target': 0.7793408204249126, 'params': {'adam': 0.7423548737973155, 'epochs': 4.484955438355787, 'lr': 0.03939002186521719}}\n",
      "Iteration 10: \n",
      "\t{'target': 0.7874759622879242, 'params': {'adam': 0.40074087306487893, 'epochs': 10.426606459866525, 'lr': 0.05}}\n",
      "Iteration 11: \n",
      "\t{'target': 0.76270956893236, 'params': {'adam': 0.6256841482138339, 'epochs': 5.062685239207843, 'lr': 0.03353532718415342}}\n"
     ]
    }
   ],
   "source": [
    "bayes_values=[]\n",
    "bayes_params=[]\n",
    "for i, res in enumerate(optimizer.res):\n",
    "    bayes_values.append(res['target'])\n",
    "    bayes_params.append(f\"Iteration {i}\")\n",
    "    print(\"Iteration {}: \\n\\t{}\".format(i, res))"
   ]
  },
  {
   "cell_type": "code",
   "execution_count": 20,
   "id": "d35b6c97",
   "metadata": {},
   "outputs": [
    {
     "name": "stdout",
     "output_type": "stream",
     "text": [
      "best params: {'target': 0.7928496176800536, 'params': {'adam': 0.7853585837137692, 'epochs': 10.019782273069232, 'lr': 0.013636904338079254}}\n"
     ]
    },
    {
     "data": {
      "image/png": "[encoded data removed]",
      "text/plain": [
       "<Figure size 432x288 with 1 Axes>"
      ]
     },
     "metadata": {
      "needs_background": "light"
     },
     "output_type": "display_data"
    }
   ],
   "source": [
    "import matplotlib.pyplot as plt\n",
    "import math\n",
    "fig, ax = plt.subplots(1, 1)\n",
    "\n",
    "plt.ylim([0.4, 0.82])\n",
    "fig.suptitle('Bayesian Optimization runs for F1 Score')\n",
    "plt.setp(ax.get_xticklabels(), rotation=30, horizontalalignment='right')\n",
    "ax.bar(bayes_params, bayes_values)\n",
    "print('best params: {}'.format(optimizer.max))"
   ]
  },
  {
   "cell_type": "code",
   "execution_count": 21,
   "id": "ace4f873",
   "metadata": {},
   "outputs": [],
   "source": [
    "def train_model_save(adam=0,lr=0.001,epochs=5):\n",
    "    # use base adam if adam <=0.5 otherwise use adamW with weight decay\n",
    "    model = FastText(INPUT_DIM, EMBEDDING_DIM, OUTPUT_DIM, PAD_IDX)\n",
    "    pretrained_embeddings = TEXT.vocab.vectors\n",
    "    model.embedding.weight.data.copy_(pretrained_embeddings)\n",
    "    UNK_IDX = TEXT.vocab.stoi[TEXT.unk_token]\n",
    "    model.embedding.weight.data[UNK_IDX] = torch.zeros(EMBEDDING_DIM)\n",
    "    model.embedding.weight.data[PAD_IDX] = torch.zeros(EMBEDDING_DIM)\n",
    "    optimizer = optim.Adam(model.parameters(),lr=lr) if adam<=0.5 else optim.AdamW(model.parameters(),lr=lr)\n",
    "    criterion = nn.BCEWithLogitsLoss(pos_weight=torch.tensor([CLASS_WEIGHT]))\n",
    "    model = model.to(device)\n",
    "    criterion = criterion.to(device)\n",
    "    N_EPOCHS = round(epochs)\n",
    "    start_time = time.time()\n",
    "\n",
    "    best_valid_f1 = 0\n",
    "\n",
    "    for epoch in tqdm(range(N_EPOCHS)):\n",
    "\n",
    "        start_time = time.time()\n",
    "\n",
    "        train_loss, train_acc, t_preds, t_labels = train(model, train_iter, optimizer, criterion)\n",
    "        valid_loss, valid_acc, v_preds, v_labels = evaluate(model, val_iter, criterion)\n",
    "        \n",
    "        end_time = time.time()\n",
    "\n",
    "        epoch_mins, epoch_secs = epoch_time(start_time, end_time)\n",
    "        f1 = f1_score(v_labels, v_preds, average=\"macro\")\n",
    "        print('F1: {}'.format(f1))\n",
    "        print('Precision: {}'.format(precision_score(v_labels, v_preds, average=\"macro\")))\n",
    "        print('Recall: {}'.format(recall_score(v_labels, v_preds, average=\"macro\")))\n",
    "        if f1 > best_valid_f1:\n",
    "            best_valid_f1 = f1\n",
    "            torch.save(model.state_dict(), 'sentiment.pt')\n",
    "\n",
    "        print(f'Epoch: {epoch+1:02} | Epoch Time: {epoch_mins}m {epoch_secs}s')\n",
    "        print(f'\\tTrain Loss: {train_loss:.3f} | Train Acc: {train_acc*100:.2f}%')\n",
    "        print(f'\\t Val. Loss: {valid_loss:.3f} |  Val. Acc: {valid_acc*100:.2f}%')\n",
    "    return model"
   ]
  },
  {
   "cell_type": "code",
   "execution_count": 22,
   "id": "45d8715a",
   "metadata": {},
   "outputs": [
    {
     "data": {
      "application/vnd.jupyter.widget-view+json": {
       "model_id": "bc4d8a37f95b4b719c4052246d8e10ec",
       "version_major": 2,
       "version_minor": 0
      },
      "text/plain": [
       "  0%|          | 0/10 [00:00<?, ?it/s]"
      ]
     },
     "metadata": {},
     "output_type": "display_data"
    },
    {
     "name": "stdout",
     "output_type": "stream",
     "text": [
      "F1: 0.774827482830577\n",
      "Precision: 0.8438028274591864\n",
      "Recall: 0.7375984860713973\n",
      "Epoch: 01 | Epoch Time: 1m 43s\n",
      "\tTrain Loss: 0.086 | Train Acc: 83.86%\n",
      "\t Val. Loss: 0.282 |  Val. Acc: 88.97%\n",
      "F1: 0.7837667886561469\n",
      "Precision: 0.8302397710598322\n",
      "Recall: 0.7541330689458301\n",
      "Epoch: 02 | Epoch Time: 1m 42s\n",
      "\tTrain Loss: 0.072 | Train Acc: 85.00%\n",
      "\t Val. Loss: 0.333 |  Val. Acc: 88.95%\n",
      "F1: 0.7879235833256676\n",
      "Precision: 0.8257099368771059\n",
      "Recall: 0.762043608221715\n",
      "Epoch: 03 | Epoch Time: 1m 42s\n",
      "\tTrain Loss: 0.070 | Train Acc: 85.29%\n",
      "\t Val. Loss: 0.328 |  Val. Acc: 88.97%\n",
      "F1: 0.7887187822705499\n",
      "Precision: 0.8223309561184158\n",
      "Recall: 0.7648937443925012\n",
      "Epoch: 04 | Epoch Time: 1m 42s\n",
      "\tTrain Loss: 0.070 | Train Acc: 85.45%\n",
      "\t Val. Loss: 0.360 |  Val. Acc: 88.91%\n",
      "F1: 0.7860414154342197\n",
      "Precision: 0.8261085325961486\n",
      "Recall: 0.7591493932511375\n",
      "Epoch: 05 | Epoch Time: 1m 42s\n",
      "\tTrain Loss: 0.070 | Train Acc: 85.54%\n",
      "\t Val. Loss: 0.359 |  Val. Acc: 88.92%\n",
      "F1: 0.7813282306833309\n",
      "Precision: 0.8240098937561783\n",
      "Recall: 0.7534388135047296\n",
      "Epoch: 06 | Epoch Time: 1m 42s\n",
      "\tTrain Loss: 0.069 | Train Acc: 85.58%\n",
      "\t Val. Loss: 0.384 |  Val. Acc: 88.75%\n",
      "F1: 0.793619305748841\n",
      "Precision: 0.8054969470847708\n",
      "Recall: 0.7832833552656\n",
      "Epoch: 07 | Epoch Time: 1m 42s\n",
      "\tTrain Loss: 0.070 | Train Acc: 85.55%\n",
      "\t Val. Loss: 0.427 |  Val. Acc: 88.56%\n",
      "F1: 0.7769050416670109\n",
      "Precision: 0.8334323312709386\n",
      "Recall: 0.7437020411936377\n",
      "Epoch: 08 | Epoch Time: 1m 42s\n",
      "\tTrain Loss: 0.069 | Train Acc: 85.57%\n",
      "\t Val. Loss: 0.335 |  Val. Acc: 88.83%\n",
      "F1: 0.7807767009342406\n",
      "Precision: 0.8236758955034134\n",
      "Recall: 0.7528145937793863\n",
      "Epoch: 09 | Epoch Time: 1m 43s\n",
      "\tTrain Loss: 0.070 | Train Acc: 85.54%\n",
      "\t Val. Loss: 0.346 |  Val. Acc: 88.73%\n",
      "F1: 0.7819654172462489\n",
      "Precision: 0.8237172426288566\n",
      "Recall: 0.7544636869202752\n",
      "Epoch: 10 | Epoch Time: 1m 44s\n",
      "\tTrain Loss: 0.070 | Train Acc: 85.51%\n",
      "\t Val. Loss: 0.353 |  Val. Acc: 88.76%\n"
     ]
    }
   ],
   "source": [
    "model = train_model_save(adam= optimizer.max['params']['adam'], lr=optimizer.max['params']['lr'],\n",
    "                 epochs=optimizer.max['params']['epochs'])"
   ]
  },
  {
   "cell_type": "code",
   "execution_count": 24,
   "id": "93f903e2",
   "metadata": {},
   "outputs": [
    {
     "name": "stdout",
     "output_type": "stream",
     "text": [
      "F1: 0.7914951466869681\n",
      "Precision: 0.8030659396188283\n",
      "Recall: 0.7814061245798196\n",
      "Test Loss: 1.091 | Test Acc: 88.43%\n"
     ]
    }
   ],
   "source": [
    "model.load_state_dict(torch.load('sentiment.pt'))\n",
    "criterion = nn.BCEWithLogitsLoss()\n",
    "test_loss, test_acc, t_preds, t_labels = evaluate(model, test_iter, criterion)\n",
    "f1 = f1_score(t_labels, t_preds, average=\"macro\")\n",
    "print('F1: {}'.format(f1))\n",
    "print('Precision: {}'.format(precision_score(t_labels, t_preds, average=\"macro\")))\n",
    "print('Recall: {}'.format(recall_score(t_labels, t_preds, average=\"macro\")))\n",
    "print(f'Test Loss: {test_loss:.3f} | Test Acc: {test_acc*100:.2f}%')"
   ]
  },
  {
   "cell_type": "code",
   "execution_count": 25,
   "id": "e66b3f8c",
   "metadata": {},
   "outputs": [],
   "source": [
    "import spacy\n",
    "nlp = spacy.load('en_core_web_sm')\n",
    "\n",
    "def predict_sentiment(model, sentence):\n",
    "    model.eval()\n",
    "    tokenized = generate_bigrams([tok.text for tok in nlp.tokenizer(sentence)])\n",
    "    indexed = [TEXT.vocab.stoi[t] for t in tokenized]\n",
    "    tensor = torch.LongTensor(indexed).to(device)\n",
    "    tensor = tensor.unsqueeze(1)\n",
    "    prediction = torch.sigmoid(model(tensor))\n",
    "    return prediction.item()"
   ]
  },
  {
   "cell_type": "code",
   "execution_count": 28,
   "id": "47fde58d",
   "metadata": {},
   "outputs": [
    {
     "data": {
      "text/plain": [
       "1.0"
      ]
     },
     "execution_count": 28,
     "metadata": {},
     "output_type": "execute_result"
    }
   ],
   "source": [
    "predict_sentiment(model, \"this is bad\")"
   ]
  },
  {
   "cell_type": "code",
   "execution_count": 27,
   "id": "78b006ef",
   "metadata": {},
   "outputs": [
    {
     "data": {
      "text/plain": [
       "1.0"
      ]
     },
     "execution_count": 27,
     "metadata": {},
     "output_type": "execute_result"
    }
   ],
   "source": [
    "predict_sentiment(model, \"I am so impressed with this item\")"
   ]
  },
  {
   "cell_type": "markdown",
   "id": "b98c4284",
   "metadata": {},
   "source": [
    "# Problems\n",
    "- Some words are not processed correctly: with f1 score tuning sentiments seem to be reversed?"
   ]
  },
  {
   "cell_type": "code",
   "execution_count": null,
   "id": "9bf4f375",
   "metadata": {},
   "outputs": [],
   "source": [
    "import pandas as pd\n",
    "df= pd.read_csv(\"Tokenized.csv\")\n",
    "df.head()"
   ]
  },
  {
   "cell_type": "code",
   "execution_count": null,
   "id": "ec727370",
   "metadata": {},
   "outputs": [],
   "source": [
    "df[\"Prediction\"]= df[\"Text\"].map(lambda x:predict_sentiment(model, x))"
   ]
  },
  {
   "cell_type": "code",
   "execution_count": null,
   "id": "c94faf78",
   "metadata": {},
   "outputs": [],
   "source": [
    "df[\"Scaled_Prediction\"]= df.apply(lambda row:(row['Prediction']*row['Helpfulness']), axis=1)"
   ]
  },
  {
   "cell_type": "code",
   "execution_count": null,
   "id": "eb238c95",
   "metadata": {},
   "outputs": [],
   "source": [
    "df.head()"
   ]
  },
  {
   "cell_type": "code",
   "execution_count": null,
   "id": "f8af0f31",
   "metadata": {},
   "outputs": [],
   "source": [
    "df.to_csv(\"results.csv\",index=False)"
   ]
  },
  {
   "cell_type": "code",
   "execution_count": null,
   "id": "1e0375e9",
   "metadata": {},
   "outputs": [],
   "source": [
    "df.Rating.value_counts()"
   ]
  },
  {
   "cell_type": "code",
   "execution_count": null,
   "id": "212352bc",
   "metadata": {},
   "outputs": [],
   "source": []
  }
 ],
 "metadata": {
  "kernelspec": {
   "display_name": "Python 3",
   "language": "python",
   "name": "python3"
  },
  "language_info": {
   "codemirror_mode": {
    "name": "ipython",
    "version": 3
   },
   "file_extension": ".py",
   "mimetype": "text/x-python",
   "name": "python",
   "nbconvert_exporter": "python",
   "pygments_lexer": "ipython3",
   "version": "3.7.9"
  }
 },
 "nbformat": 4,
 "nbformat_minor": 5
}
