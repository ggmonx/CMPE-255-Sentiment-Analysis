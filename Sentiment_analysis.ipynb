{
 "cells": [
  {
   "cell_type": "markdown",
   "id": "642662b9",
   "metadata": {},
   "source": [
    "# Code adapted from\n",
    "* https://dzlab.github.io/dltips/en/pytorch/torchtext-datasets/ to use custom dataset\n",
    "* https://github.com/bentrevett/pytorch-sentiment-analysis/blob/master/3%20-%20Faster%20Sentiment%20Analysis.ipynb to use model"
   ]
  },
  {
   "cell_type": "code",
   "execution_count": 1,
   "id": "97b8aabb",
   "metadata": {},
   "outputs": [],
   "source": [
    "def generate_bigrams(x):\n",
    "    n_grams = set(zip(*[x[i:] for i in range(2)]))\n",
    "    for n_gram in n_grams:\n",
    "        x.append(' '.join(n_gram))\n",
    "    return x"
   ]
  },
  {
   "cell_type": "code",
   "execution_count": 2,
   "id": "c290b7fc",
   "metadata": {},
   "outputs": [],
   "source": [
    "import torch\n",
    "from torchtext.legacy import data\n",
    "from torchtext.legacy import datasets\n",
    "\n",
    "SEED = 1234\n",
    "\n",
    "torch.manual_seed(SEED)\n",
    "torch.backends.cudnn.deterministic = True\n",
    "\n",
    "TEXT = data.Field(tokenize = 'spacy',\n",
    "                  tokenizer_language = 'en_core_web_sm',\n",
    "                  preprocessing = generate_bigrams)\n",
    "\n",
    "LABEL = data.LabelField(dtype = torch.float)"
   ]
  },
  {
   "cell_type": "code",
   "execution_count": 3,
   "id": "6a1d58df",
   "metadata": {},
   "outputs": [],
   "source": [
    "BATCH_SIZE = 128#64\n",
    "\n",
    "device = torch.device('cuda' if torch.cuda.is_available() else 'cpu')\n",
    "\n",
    "train, val, test = data.TabularDataset.splits(\n",
    "    path='./data', train='Train.csv',\n",
    "    validation='Val.csv', test='Test.csv', format='csv',\n",
    "    fields=[('text', TEXT),(None, None), ('label', LABEL)],\n",
    "    skip_header = True)# ignore helpfulness column\n",
    "    # columns are Text, helpfulness, and rating\n",
    "\n",
    "train_iter, val_iter, test_iter = data.BucketIterator.splits(\n",
    "    (train, val, test), batch_sizes=(BATCH_SIZE,BATCH_SIZE,BATCH_SIZE),\n",
    "    sort_key=lambda x: len(x.text), device = device)"
   ]
  },
  {
   "cell_type": "code",
   "execution_count": 4,
   "id": "cf810c52",
   "metadata": {},
   "outputs": [],
   "source": [
    "MAX_VOCAB_SIZE = 50_000\n",
    "\n",
    "TEXT.build_vocab(train, \n",
    "                 max_size = MAX_VOCAB_SIZE, \n",
    "                 vectors = \"glove.6B.100d\", \n",
    "                 unk_init = torch.Tensor.normal_)\n",
    "\n",
    "LABEL.build_vocab(train)"
   ]
  },
  {
   "cell_type": "code",
   "execution_count": 5,
   "id": "3e310f5f",
   "metadata": {},
   "outputs": [],
   "source": [
    "import torch.nn as nn\n",
    "import torch.nn.functional as F\n",
    "\n",
    "class FastText(nn.Module):\n",
    "    def __init__(self, vocab_size, embedding_dim, output_dim, pad_idx):\n",
    "        \n",
    "        super().__init__()\n",
    "        \n",
    "        self.embedding = nn.Embedding(vocab_size, embedding_dim, padding_idx=pad_idx)\n",
    "        \n",
    "        self.fc = nn.Linear(embedding_dim, output_dim)\n",
    "        \n",
    "    def forward(self, text):\n",
    "        \n",
    "        #text = [sent len, batch size]\n",
    "        \n",
    "        embedded = self.embedding(text)\n",
    "                \n",
    "        #embedded = [sent len, batch size, emb dim]\n",
    "        \n",
    "        embedded = embedded.permute(1, 0, 2)\n",
    "        \n",
    "        #embedded = [batch size, sent len, emb dim]\n",
    "        \n",
    "        pooled = F.avg_pool2d(embedded, (embedded.shape[1], 1)).squeeze(1) \n",
    "        \n",
    "        #pooled = [batch size, embedding_dim]\n",
    "                \n",
    "        return self.fc(pooled)"
   ]
  },
  {
   "cell_type": "code",
   "execution_count": 6,
   "id": "7ba5a606",
   "metadata": {},
   "outputs": [],
   "source": [
    "INPUT_DIM = len(TEXT.vocab)\n",
    "EMBEDDING_DIM = 100\n",
    "OUTPUT_DIM = 1\n",
    "PAD_IDX = TEXT.vocab.stoi[TEXT.pad_token]\n",
    "\n",
    "model = FastText(INPUT_DIM, EMBEDDING_DIM, OUTPUT_DIM, PAD_IDX)"
   ]
  },
  {
   "cell_type": "code",
   "execution_count": 7,
   "id": "b003cf78",
   "metadata": {},
   "outputs": [
    {
     "name": "stdout",
     "output_type": "stream",
     "text": [
      "The model has 5,000,301 trainable parameters\n"
     ]
    }
   ],
   "source": [
    "def count_parameters(model):\n",
    "    return sum(p.numel() for p in model.parameters() if p.requires_grad)\n",
    "\n",
    "print(f'The model has {count_parameters(model):,} trainable parameters')"
   ]
  },
  {
   "cell_type": "code",
   "execution_count": 8,
   "id": "a2768fe3",
   "metadata": {},
   "outputs": [
    {
     "data": {
      "text/plain": [
       "tensor([[-0.1117, -0.4966,  0.1631,  ...,  1.2647, -0.2753, -0.1325],\n",
       "        [-0.8555, -0.7208,  1.3755,  ...,  0.0825, -1.1314,  0.3997],\n",
       "        [-0.3456, -0.2499,  0.5868,  ..., -1.3106,  1.0294, -0.0588],\n",
       "        ...,\n",
       "        [-0.7159,  0.3680,  0.1050,  ...,  0.5475,  1.1873,  0.6015],\n",
       "        [-0.1165, -0.2232,  1.3694,  ...,  0.3804, -0.5789,  1.6296],\n",
       "        [-1.5079, -1.5550, -1.6569,  ...,  1.6023, -0.8018, -1.6895]])"
      ]
     },
     "execution_count": 8,
     "metadata": {},
     "output_type": "execute_result"
    }
   ],
   "source": [
    "pretrained_embeddings = TEXT.vocab.vectors\n",
    "\n",
    "model.embedding.weight.data.copy_(pretrained_embeddings)"
   ]
  },
  {
   "cell_type": "code",
   "execution_count": 9,
   "id": "2bdadde9",
   "metadata": {},
   "outputs": [],
   "source": [
    "UNK_IDX = TEXT.vocab.stoi[TEXT.unk_token]\n",
    "\n",
    "model.embedding.weight.data[UNK_IDX] = torch.zeros(EMBEDDING_DIM)\n",
    "model.embedding.weight.data[PAD_IDX] = torch.zeros(EMBEDDING_DIM)"
   ]
  },
  {
   "cell_type": "code",
   "execution_count": 10,
   "id": "f0627a74",
   "metadata": {},
   "outputs": [],
   "source": [
    "import torch.optim as optim\n",
    "\n",
    "optimizer = optim.Adam(model.parameters())"
   ]
  },
  {
   "cell_type": "code",
   "execution_count": 11,
   "id": "ab78aaea",
   "metadata": {},
   "outputs": [],
   "source": [
    "criterion = nn.BCEWithLogitsLoss()\n",
    "\n",
    "model = model.to(device)\n",
    "criterion = criterion.to(device)"
   ]
  },
  {
   "cell_type": "code",
   "execution_count": 12,
   "id": "8a147424",
   "metadata": {},
   "outputs": [],
   "source": [
    "def binary_accuracy(preds, y):\n",
    "    \"\"\"\n",
    "    Returns accuracy per batch, i.e. if you get 8/10 right, this returns 0.8, NOT 8\n",
    "    \"\"\"\n",
    "\n",
    "    #round predictions to the closest integer\n",
    "    rounded_preds = torch.round(torch.sigmoid(preds))\n",
    "    correct = (rounded_preds == y).float() #convert into float for division \n",
    "    acc = correct.sum() / len(correct)\n",
    "    return acc"
   ]
  },
  {
   "cell_type": "code",
   "execution_count": 13,
   "id": "7703a303",
   "metadata": {},
   "outputs": [],
   "source": [
    "def train(model, iterator, optimizer, criterion):\n",
    "    \n",
    "    epoch_loss = 0\n",
    "    epoch_acc = 0\n",
    "    \n",
    "    model.train()\n",
    "    \n",
    "    for batch in iterator:\n",
    "        \n",
    "        optimizer.zero_grad()\n",
    "        \n",
    "        predictions = model(batch.text).squeeze(1)\n",
    "        \n",
    "        loss = criterion(predictions, batch.label)\n",
    "        \n",
    "        acc = binary_accuracy(predictions, batch.label)\n",
    "        \n",
    "        loss.backward()\n",
    "        \n",
    "        optimizer.step()\n",
    "        \n",
    "        epoch_loss += loss.item()\n",
    "        epoch_acc += acc.item()\n",
    "        \n",
    "    return epoch_loss / len(iterator), epoch_acc / len(iterator)"
   ]
  },
  {
   "cell_type": "code",
   "execution_count": 14,
   "id": "4b70f193",
   "metadata": {},
   "outputs": [],
   "source": [
    "def evaluate(model, iterator, criterion):\n",
    "    \n",
    "    epoch_loss = 0\n",
    "    epoch_acc = 0\n",
    "    \n",
    "    model.eval()\n",
    "    \n",
    "    with torch.no_grad():\n",
    "    \n",
    "        for batch in iterator:\n",
    "\n",
    "            predictions = model(batch.text).squeeze(1)\n",
    "            \n",
    "            loss = criterion(predictions, batch.label)\n",
    "            \n",
    "            acc = binary_accuracy(predictions, batch.label)\n",
    "\n",
    "            epoch_loss += loss.item()\n",
    "            epoch_acc += acc.item()\n",
    "        \n",
    "    return epoch_loss / len(iterator), epoch_acc / len(iterator)"
   ]
  },
  {
   "cell_type": "code",
   "execution_count": 15,
   "id": "ea80e259",
   "metadata": {},
   "outputs": [],
   "source": [
    "import time\n",
    "\n",
    "def epoch_time(start_time, end_time):\n",
    "    elapsed_time = end_time - start_time\n",
    "    elapsed_mins = int(elapsed_time / 60)\n",
    "    elapsed_secs = int(elapsed_time - (elapsed_mins * 60))\n",
    "    return elapsed_mins, elapsed_secs"
   ]
  },
  {
   "cell_type": "code",
   "execution_count": 16,
   "id": "45d8715a",
   "metadata": {},
   "outputs": [
    {
     "name": "stdout",
     "output_type": "stream",
     "text": [
      "Epoch: 01 | Epoch Time: 2m 6s\n",
      "\tTrain Loss: 0.521 | Train Acc: 81.97%\n",
      "\t Val. Loss: 0.712 |  Val. Acc: 82.29%\n",
      "Epoch: 02 | Epoch Time: 1m 50s\n",
      "\tTrain Loss: 0.354 | Train Acc: 83.29%\n",
      "\t Val. Loss: 0.803 |  Val. Acc: 80.07%\n",
      "Epoch: 03 | Epoch Time: 1m 49s\n",
      "\tTrain Loss: 0.291 | Train Acc: 82.63%\n",
      "\t Val. Loss: 0.887 |  Val. Acc: 79.15%\n",
      "Epoch: 04 | Epoch Time: 1m 48s\n",
      "\tTrain Loss: 0.256 | Train Acc: 82.23%\n",
      "\t Val. Loss: 0.966 |  Val. Acc: 77.98%\n",
      "Epoch: 05 | Epoch Time: 1m 47s\n",
      "\tTrain Loss: 0.233 | Train Acc: 82.04%\n",
      "\t Val. Loss: 1.015 |  Val. Acc: 78.39%\n",
      "Epoch: 06 | Epoch Time: 1m 49s\n",
      "\tTrain Loss: 0.213 | Train Acc: 81.89%\n",
      "\t Val. Loss: 1.068 |  Val. Acc: 78.54%\n",
      "Epoch: 07 | Epoch Time: 1m 55s\n",
      "\tTrain Loss: 0.196 | Train Acc: 81.81%\n",
      "\t Val. Loss: 1.124 |  Val. Acc: 78.60%\n",
      "Epoch: 08 | Epoch Time: 1m 48s\n",
      "\tTrain Loss: 0.181 | Train Acc: 81.70%\n",
      "\t Val. Loss: 1.198 |  Val. Acc: 77.88%\n",
      "Epoch: 09 | Epoch Time: 1m 58s\n",
      "\tTrain Loss: 0.167 | Train Acc: 81.56%\n",
      "\t Val. Loss: 1.292 |  Val. Acc: 77.03%\n",
      "Epoch: 10 | Epoch Time: 1m 54s\n",
      "\tTrain Loss: 0.156 | Train Acc: 81.48%\n",
      "\t Val. Loss: 1.314 |  Val. Acc: 78.22%\n"
     ]
    }
   ],
   "source": [
    "N_EPOCHS = 10\n",
    "\n",
    "best_valid_loss = float('inf')\n",
    "\n",
    "for epoch in range(N_EPOCHS):\n",
    "\n",
    "    start_time = time.time()\n",
    "    \n",
    "    train_loss, train_acc = train(model, train_iter, optimizer, criterion)\n",
    "    valid_loss, valid_acc = evaluate(model, val_iter, criterion)\n",
    "    \n",
    "    end_time = time.time()\n",
    "\n",
    "    epoch_mins, epoch_secs = epoch_time(start_time, end_time)\n",
    "    \n",
    "    if valid_loss < best_valid_loss:\n",
    "        best_valid_loss = valid_loss\n",
    "        torch.save(model.state_dict(), 'sentiment.pt')\n",
    "    \n",
    "    print(f'Epoch: {epoch+1:02} | Epoch Time: {epoch_mins}m {epoch_secs}s')\n",
    "    print(f'\\tTrain Loss: {train_loss:.3f} | Train Acc: {train_acc*100:.2f}%')\n",
    "    print(f'\\t Val. Loss: {valid_loss:.3f} |  Val. Acc: {valid_acc*100:.2f}%')"
   ]
  },
  {
   "cell_type": "code",
   "execution_count": 17,
   "id": "93f903e2",
   "metadata": {},
   "outputs": [
    {
     "name": "stdout",
     "output_type": "stream",
     "text": [
      "Test Loss: 0.721 | Test Acc: 82.14%\n"
     ]
    }
   ],
   "source": [
    "model.load_state_dict(torch.load('sentiment.pt'))\n",
    "\n",
    "test_loss, test_acc = evaluate(model, test_iter, criterion)\n",
    "\n",
    "print(f'Test Loss: {test_loss:.3f} | Test Acc: {test_acc*100:.2f}%')"
   ]
  },
  {
   "cell_type": "code",
   "execution_count": 18,
   "id": "e66b3f8c",
   "metadata": {},
   "outputs": [],
   "source": [
    "import spacy\n",
    "nlp = spacy.load('en_core_web_sm')\n",
    "\n",
    "def predict_sentiment(model, sentence):\n",
    "    model.eval()\n",
    "    tokenized = generate_bigrams([tok.text for tok in nlp.tokenizer(sentence)])\n",
    "    indexed = [TEXT.vocab.stoi[t] for t in tokenized]\n",
    "    tensor = torch.LongTensor(indexed).to(device)\n",
    "    tensor = tensor.unsqueeze(1)\n",
    "    prediction = torch.sigmoid(model(tensor))\n",
    "    return prediction.item()"
   ]
  },
  {
   "cell_type": "code",
   "execution_count": 19,
   "id": "47fde58d",
   "metadata": {},
   "outputs": [
    {
     "data": {
      "text/plain": [
       "0.324064165353775"
      ]
     },
     "execution_count": 19,
     "metadata": {},
     "output_type": "execute_result"
    }
   ],
   "source": [
    "predict_sentiment(model, \"This movie SUCKS HARD\")"
   ]
  },
  {
   "cell_type": "code",
   "execution_count": 20,
   "id": "78b006ef",
   "metadata": {},
   "outputs": [
    {
     "data": {
      "text/plain": [
       "0.999984622001648"
      ]
     },
     "execution_count": 20,
     "metadata": {},
     "output_type": "execute_result"
    }
   ],
   "source": [
    "predict_sentiment(model, \"This book is FANTASTIC\")"
   ]
  },
  {
   "cell_type": "markdown",
   "id": "b98c4284",
   "metadata": {},
   "source": [
    "# Problems\n",
    "- Some words are not processed correctly: good has high sentiment but fantastic does not"
   ]
  },
  {
   "cell_type": "code",
   "execution_count": 21,
   "id": "9bf4f375",
   "metadata": {},
   "outputs": [
    {
     "data": {
      "text/html": [
       "<div>\n",
       "<style scoped>\n",
       "    .dataframe tbody tr th:only-of-type {\n",
       "        vertical-align: middle;\n",
       "    }\n",
       "\n",
       "    .dataframe tbody tr th {\n",
       "        vertical-align: top;\n",
       "    }\n",
       "\n",
       "    .dataframe thead th {\n",
       "        text-align: right;\n",
       "    }\n",
       "</style>\n",
       "<table border=\"1\" class=\"dataframe\">\n",
       "  <thead>\n",
       "    <tr style=\"text-align: right;\">\n",
       "      <th></th>\n",
       "      <th>Text</th>\n",
       "      <th>Helpfulness</th>\n",
       "      <th>Rating</th>\n",
       "    </tr>\n",
       "  </thead>\n",
       "  <tbody>\n",
       "    <tr>\n",
       "      <th>0</th>\n",
       "      <td>['daughter', 'wanted', 'book', 'price', 'Amazo...</td>\n",
       "      <td>1.000000</td>\n",
       "      <td>1</td>\n",
       "    </tr>\n",
       "    <tr>\n",
       "      <th>1</th>\n",
       "      <td>['bought', 'zoku', 'quick', 'pop', 'daughterr'...</td>\n",
       "      <td>1.000000</td>\n",
       "      <td>1</td>\n",
       "    </tr>\n",
       "    <tr>\n",
       "      <th>2</th>\n",
       "      <td>['shortage', 'pop', 'recipes', 'available', 'f...</td>\n",
       "      <td>2.059259</td>\n",
       "      <td>1</td>\n",
       "    </tr>\n",
       "    <tr>\n",
       "      <th>3</th>\n",
       "      <td>['book', 'must', 'get', 'Zoku', 'also', 'highl...</td>\n",
       "      <td>1.855556</td>\n",
       "      <td>1</td>\n",
       "    </tr>\n",
       "    <tr>\n",
       "      <th>4</th>\n",
       "      <td>['cookbook', 'great', 'really', 'enjoyed', 're...</td>\n",
       "      <td>1.000000</td>\n",
       "      <td>1</td>\n",
       "    </tr>\n",
       "  </tbody>\n",
       "</table>\n",
       "</div>"
      ],
      "text/plain": [
       "                                                Text  Helpfulness  Rating\n",
       "0  ['daughter', 'wanted', 'book', 'price', 'Amazo...     1.000000       1\n",
       "1  ['bought', 'zoku', 'quick', 'pop', 'daughterr'...     1.000000       1\n",
       "2  ['shortage', 'pop', 'recipes', 'available', 'f...     2.059259       1\n",
       "3  ['book', 'must', 'get', 'Zoku', 'also', 'highl...     1.855556       1\n",
       "4  ['cookbook', 'great', 'really', 'enjoyed', 're...     1.000000       1"
      ]
     },
     "execution_count": 21,
     "metadata": {},
     "output_type": "execute_result"
    }
   ],
   "source": [
    "import pandas as pd\n",
    "df= pd.read_csv(\"Tokenized.csv\")\n",
    "df.head()"
   ]
  },
  {
   "cell_type": "code",
   "execution_count": 22,
   "id": "ec727370",
   "metadata": {},
   "outputs": [],
   "source": [
    "df[\"Prediction\"]= df[\"Text\"].map(lambda x:predict_sentiment(model, x))"
   ]
  },
  {
   "cell_type": "code",
   "execution_count": 23,
   "id": "c94faf78",
   "metadata": {},
   "outputs": [],
   "source": [
    "df[\"Scaled_Prediction\"]= df.apply(lambda row:(row['Prediction']*row['Helpfulness']), axis=1)"
   ]
  },
  {
   "cell_type": "code",
   "execution_count": 24,
   "id": "eb238c95",
   "metadata": {},
   "outputs": [
    {
     "data": {
      "text/html": [
       "<div>\n",
       "<style scoped>\n",
       "    .dataframe tbody tr th:only-of-type {\n",
       "        vertical-align: middle;\n",
       "    }\n",
       "\n",
       "    .dataframe tbody tr th {\n",
       "        vertical-align: top;\n",
       "    }\n",
       "\n",
       "    .dataframe thead th {\n",
       "        text-align: right;\n",
       "    }\n",
       "</style>\n",
       "<table border=\"1\" class=\"dataframe\">\n",
       "  <thead>\n",
       "    <tr style=\"text-align: right;\">\n",
       "      <th></th>\n",
       "      <th>Text</th>\n",
       "      <th>Helpfulness</th>\n",
       "      <th>Rating</th>\n",
       "      <th>Prediction</th>\n",
       "      <th>Scaled_Prediction</th>\n",
       "    </tr>\n",
       "  </thead>\n",
       "  <tbody>\n",
       "    <tr>\n",
       "      <th>0</th>\n",
       "      <td>['daughter', 'wanted', 'book', 'price', 'Amazo...</td>\n",
       "      <td>1.000000</td>\n",
       "      <td>1</td>\n",
       "      <td>9.475932e-10</td>\n",
       "      <td>9.475932e-10</td>\n",
       "    </tr>\n",
       "    <tr>\n",
       "      <th>1</th>\n",
       "      <td>['bought', 'zoku', 'quick', 'pop', 'daughterr'...</td>\n",
       "      <td>1.000000</td>\n",
       "      <td>1</td>\n",
       "      <td>5.314376e-12</td>\n",
       "      <td>5.314376e-12</td>\n",
       "    </tr>\n",
       "    <tr>\n",
       "      <th>2</th>\n",
       "      <td>['shortage', 'pop', 'recipes', 'available', 'f...</td>\n",
       "      <td>2.059259</td>\n",
       "      <td>1</td>\n",
       "      <td>7.398023e-03</td>\n",
       "      <td>1.523445e-02</td>\n",
       "    </tr>\n",
       "    <tr>\n",
       "      <th>3</th>\n",
       "      <td>['book', 'must', 'get', 'Zoku', 'also', 'highl...</td>\n",
       "      <td>1.855556</td>\n",
       "      <td>1</td>\n",
       "      <td>5.322372e-11</td>\n",
       "      <td>9.875956e-11</td>\n",
       "    </tr>\n",
       "    <tr>\n",
       "      <th>4</th>\n",
       "      <td>['cookbook', 'great', 'really', 'enjoyed', 're...</td>\n",
       "      <td>1.000000</td>\n",
       "      <td>1</td>\n",
       "      <td>8.707701e-07</td>\n",
       "      <td>8.707701e-07</td>\n",
       "    </tr>\n",
       "  </tbody>\n",
       "</table>\n",
       "</div>"
      ],
      "text/plain": [
       "                                                Text  Helpfulness  Rating  \\\n",
       "0  ['daughter', 'wanted', 'book', 'price', 'Amazo...     1.000000       1   \n",
       "1  ['bought', 'zoku', 'quick', 'pop', 'daughterr'...     1.000000       1   \n",
       "2  ['shortage', 'pop', 'recipes', 'available', 'f...     2.059259       1   \n",
       "3  ['book', 'must', 'get', 'Zoku', 'also', 'highl...     1.855556       1   \n",
       "4  ['cookbook', 'great', 'really', 'enjoyed', 're...     1.000000       1   \n",
       "\n",
       "     Prediction  Scaled_Prediction  \n",
       "0  9.475932e-10       9.475932e-10  \n",
       "1  5.314376e-12       5.314376e-12  \n",
       "2  7.398023e-03       1.523445e-02  \n",
       "3  5.322372e-11       9.875956e-11  \n",
       "4  8.707701e-07       8.707701e-07  "
      ]
     },
     "execution_count": 24,
     "metadata": {},
     "output_type": "execute_result"
    }
   ],
   "source": [
    "df.head()"
   ]
  },
  {
   "cell_type": "code",
   "execution_count": 25,
   "id": "f8af0f31",
   "metadata": {},
   "outputs": [],
   "source": [
    "df.to_csv(\"results.csv\",index=False)"
   ]
  },
  {
   "cell_type": "code",
   "execution_count": 29,
   "id": "1e0375e9",
   "metadata": {},
   "outputs": [
    {
     "data": {
      "text/plain": [
       " 1    455204\n",
       "-1     51419\n",
       " 0     45059\n",
       "Name: Rating, dtype: int64"
      ]
     },
     "execution_count": 29,
     "metadata": {},
     "output_type": "execute_result"
    }
   ],
   "source": [
    "df.Rating.value_counts()"
   ]
  },
  {
   "cell_type": "code",
   "execution_count": null,
   "id": "212352bc",
   "metadata": {},
   "outputs": [],
   "source": []
  }
 ],
 "metadata": {
  "kernelspec": {
   "display_name": "Python 3",
   "language": "python",
   "name": "python3"
  },
  "language_info": {
   "codemirror_mode": {
    "name": "ipython",
    "version": 3
   },
   "file_extension": ".py",
   "mimetype": "text/x-python",
   "name": "python",
   "nbconvert_exporter": "python",
   "pygments_lexer": "ipython3",
   "version": "3.7.9"
  }
 },
 "nbformat": 4,
 "nbformat_minor": 5
}
