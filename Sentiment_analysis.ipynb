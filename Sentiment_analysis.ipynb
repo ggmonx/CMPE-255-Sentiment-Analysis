{
 "cells": [
  {
   "cell_type": "markdown",
   "id": "642662b9",
   "metadata": {},
   "source": [
    "# Code adapted from\n",
    "* https://dzlab.github.io/dltips/en/pytorch/torchtext-datasets/ to use custom dataset\n",
    "* https://github.com/bentrevett/pytorch-sentiment-analysis/blob/master/3%20-%20Faster%20Sentiment%20Analysis.ipynb to use model"
   ]
  },
  {
   "cell_type": "code",
   "execution_count": 1,
   "id": "97b8aabb",
   "metadata": {},
   "outputs": [],
   "source": [
    "def generate_bigrams(x):\n",
    "    n_grams = set(zip(*[x[i:] for i in range(2)]))\n",
    "    for n_gram in n_grams:\n",
    "        x.append(' '.join(n_gram))\n",
    "    return x"
   ]
  },
  {
   "cell_type": "code",
   "execution_count": 2,
   "id": "c290b7fc",
   "metadata": {},
   "outputs": [],
   "source": [
    "import torch\n",
    "from torchtext.legacy import data\n",
    "from torchtext.legacy import datasets\n",
    "\n",
    "SEED = 1234\n",
    "\n",
    "torch.manual_seed(SEED)\n",
    "torch.backends.cudnn.deterministic = True\n",
    "\n",
    "TEXT = data.Field(tokenize = 'spacy',\n",
    "                  tokenizer_language = 'en_core_web_sm',\n",
    "                  preprocessing = generate_bigrams)\n",
    "\n",
    "LABEL = data.LabelField(dtype = torch.float)"
   ]
  },
  {
   "cell_type": "code",
   "execution_count": 3,
   "id": "6a1d58df",
   "metadata": {},
   "outputs": [],
   "source": [
    "BATCH_SIZE = 128#64\n",
    "\n",
    "device = torch.device('cuda' if torch.cuda.is_available() else 'cpu')\n",
    "\n",
    "train, val, test = data.TabularDataset.splits(\n",
    "    path='./data', train='Train.csv',\n",
    "    validation='Val.csv', test='Test.csv', format='csv',\n",
    "    fields=[('text', TEXT),(None, None), ('label', LABEL)],\n",
    "    skip_header = True)# ignore helpfulness column\n",
    "    # columns are Text, helpfulness, and rating\n",
    "\n",
    "train_iter, val_iter, test_iter = data.BucketIterator.splits(\n",
    "    (train, val, test), batch_sizes=(BATCH_SIZE,BATCH_SIZE,BATCH_SIZE),\n",
    "    sort_key=lambda x: len(x.text), device = device)"
   ]
  },
  {
   "cell_type": "code",
   "execution_count": 4,
   "id": "cf810c52",
   "metadata": {},
   "outputs": [],
   "source": [
    "MAX_VOCAB_SIZE = 50_000\n",
    "\n",
    "TEXT.build_vocab(train, \n",
    "                 max_size = MAX_VOCAB_SIZE, \n",
    "                 vectors = \"glove.6B.100d\", \n",
    "                 unk_init = torch.Tensor.normal_)\n",
    "\n",
    "LABEL.build_vocab(train)"
   ]
  },
  {
   "cell_type": "code",
   "execution_count": 5,
   "id": "3e310f5f",
   "metadata": {},
   "outputs": [],
   "source": [
    "import torch.nn as nn\n",
    "import torch.nn.functional as F\n",
    "\n",
    "class FastText(nn.Module):\n",
    "    def __init__(self, vocab_size, embedding_dim, output_dim, pad_idx):\n",
    "        \n",
    "        super().__init__()\n",
    "        \n",
    "        self.embedding = nn.Embedding(vocab_size, embedding_dim, padding_idx=pad_idx)\n",
    "        \n",
    "        self.fc = nn.Linear(embedding_dim, output_dim)\n",
    "        \n",
    "    def forward(self, text):\n",
    "        \n",
    "        #text = [sent len, batch size]\n",
    "        \n",
    "        embedded = self.embedding(text)\n",
    "                \n",
    "        #embedded = [sent len, batch size, emb dim]\n",
    "        \n",
    "        embedded = embedded.permute(1, 0, 2)\n",
    "        \n",
    "        #embedded = [batch size, sent len, emb dim]\n",
    "        \n",
    "        pooled = F.avg_pool2d(embedded, (embedded.shape[1], 1)).squeeze(1) \n",
    "        \n",
    "        #pooled = [batch size, embedding_dim]\n",
    "                \n",
    "        return self.fc(pooled)"
   ]
  },
  {
   "cell_type": "code",
   "execution_count": 6,
   "id": "7ba5a606",
   "metadata": {},
   "outputs": [],
   "source": [
    "INPUT_DIM = len(TEXT.vocab)\n",
    "EMBEDDING_DIM = 100\n",
    "OUTPUT_DIM = 1\n",
    "PAD_IDX = TEXT.vocab.stoi[TEXT.pad_token]\n",
    "\n",
    "#model = FastText(INPUT_DIM, EMBEDDING_DIM, OUTPUT_DIM, PAD_IDX)"
   ]
  },
  {
   "cell_type": "code",
   "execution_count": 7,
   "id": "8a147424",
   "metadata": {},
   "outputs": [],
   "source": [
    "def binary_accuracy(preds, y):\n",
    "    \"\"\"\n",
    "    Returns accuracy per batch, i.e. if you get 8/10 right, this returns 0.8, NOT 8\n",
    "    \"\"\"\n",
    "\n",
    "    #round predictions to the closest integer\n",
    "    rounded_preds = torch.round(torch.sigmoid(preds))\n",
    "    correct = (rounded_preds == y).float() #convert into float for division \n",
    "    acc = correct.sum() / len(correct)\n",
    "    return acc, rounded_preds"
   ]
  },
  {
   "cell_type": "code",
   "execution_count": 8,
   "id": "7703a303",
   "metadata": {},
   "outputs": [],
   "source": [
    "def train(model, iterator, optimizer, criterion):\n",
    "    \n",
    "    epoch_loss = 0\n",
    "    epoch_acc = 0\n",
    "    \n",
    "    model.train()\n",
    "    preds=[]\n",
    "    labels=[]\n",
    "    for batch in iterator:\n",
    "        \n",
    "        optimizer.zero_grad()\n",
    "        \n",
    "        predictions = model(batch.text).squeeze(1)\n",
    "        \n",
    "        loss = criterion(predictions, batch.label)\n",
    "        \n",
    "        acc, rounded_preds = binary_accuracy(predictions, batch.label)\n",
    "        preds.extend(rounded_preds.detach().to('cpu').numpy())\n",
    "        labels.extend(batch.label.detach().to('cpu').numpy())\n",
    "        loss.backward()\n",
    "        \n",
    "        optimizer.step()\n",
    "        \n",
    "        epoch_loss += loss.item()\n",
    "        epoch_acc += acc.item()\n",
    "        \n",
    "    return epoch_loss / len(iterator), epoch_acc / len(iterator), preds, labels"
   ]
  },
  {
   "cell_type": "code",
   "execution_count": 9,
   "id": "4b70f193",
   "metadata": {},
   "outputs": [],
   "source": [
    "def evaluate(model, iterator, criterion):\n",
    "    \n",
    "    epoch_loss = 0\n",
    "    epoch_acc = 0\n",
    "    \n",
    "    model.eval()\n",
    "    preds=[]\n",
    "    labels=[]\n",
    "    with torch.no_grad():\n",
    "    \n",
    "        for batch in iterator:\n",
    "\n",
    "            predictions = model(batch.text).squeeze(1)\n",
    "            loss = criterion(predictions, batch.label)\n",
    "            \n",
    "            acc, rounded_preds = binary_accuracy(predictions, batch.label)\n",
    "            preds.extend(rounded_preds.detach().to('cpu').numpy())\n",
    "            labels.extend(batch.label.detach().to('cpu').numpy())\n",
    "            epoch_loss += loss.item()\n",
    "            epoch_acc += acc.item()\n",
    "        \n",
    "    return epoch_loss / len(iterator), epoch_acc / len(iterator), preds, labels"
   ]
  },
  {
   "cell_type": "code",
   "execution_count": 10,
   "id": "ea80e259",
   "metadata": {},
   "outputs": [],
   "source": [
    "import time\n",
    "\n",
    "def epoch_time(start_time, end_time):\n",
    "    elapsed_time = end_time - start_time\n",
    "    elapsed_mins = int(elapsed_time / 60)\n",
    "    elapsed_secs = int(elapsed_time - (elapsed_mins * 60))\n",
    "    return elapsed_mins, elapsed_secs"
   ]
  },
  {
   "cell_type": "code",
   "execution_count": 56,
   "id": "bcff7209",
   "metadata": {},
   "outputs": [],
   "source": [
    "from sklearn.metrics import f1_score, precision_score, recall_score\n",
    "import numpy as np\n",
    "from tqdm.notebook import  tqdm"
   ]
  },
  {
   "cell_type": "code",
   "execution_count": null,
   "id": "a70e3967",
   "metadata": {},
   "outputs": [],
   "source": [
    "import torch.optim as optim\n",
    "\n",
    "\n",
    "def train_model(adam=0,lr=0.001,epochs=5):\n",
    "    # use base adam if adam <=0.5 otherwise use adamW with weight decay\n",
    "    model = FastText(INPUT_DIM, EMBEDDING_DIM, OUTPUT_DIM, PAD_IDX)\n",
    "    pretrained_embeddings = TEXT.vocab.vectors\n",
    "    model.embedding.weight.data.copy_(pretrained_embeddings)\n",
    "    UNK_IDX = TEXT.vocab.stoi[TEXT.unk_token]\n",
    "    model.embedding.weight.data[UNK_IDX] = torch.zeros(EMBEDDING_DIM)\n",
    "    model.embedding.weight.data[PAD_IDX] = torch.zeros(EMBEDDING_DIM)\n",
    "    \n",
    "    optimizer = optim.Adam(model.parameters(),lr=lr) if adam<=0.5 else optim.AdamW(model.parameters(),lr=lr)\n",
    "    criterion = nn.BCEWithLogitsLoss()\n",
    "    model = model.to(device)\n",
    "    criterion = criterion.to(device)\n",
    "    N_EPOCHS = round(epochs)\n",
    "    #best_valid_loss = float('inf')\n",
    "    start_time = time.time()\n",
    "    for epoch in tqdm(range(N_EPOCHS)):\n",
    "\n",
    "        \n",
    "\n",
    "        train_loss, train_acc, t_preds, t_labels = train(model, train_iter, optimizer, criterion)\n",
    "        valid_loss, valid_acc, v_preds, v_labels = evaluate(model, val_iter, criterion)\n",
    "        f1 = f1_score(v_labels, v_preds, average=\"macro\")\n",
    "       \n",
    "        #print('gt: {}'.format(np.unique(v_labels)))\n",
    "        #print('preds: {}'.format(np.unique(v_preds)))\n",
    "        \n",
    "       # if valid_loss < best_valid_loss:\n",
    "       #     best_valid_loss = valid_loss\n",
    "       #     torch.save(model.state_dict(), 'sentiment.pt')\n",
    "        \n",
    "        #print(f'Epoch: {epoch+1:02}')# | Epoch Time: {epoch_mins}m {epoch_secs}s'\n",
    "        #print(f'\\tTrain Loss: {train_loss:.3f} | Train Acc: {train_acc*100:.2f}%')\n",
    "        #print(f'\\t Val. Loss: {valid_loss:.3f} |  Val. Acc: {valid_acc*100:.2f}%')\n",
    "    end_time = time.time()\n",
    "    epoch_mins, epoch_secs = epoch_time(start_time, end_time)\n",
    "    print('F1: {}'.format(f1))\n",
    "    print('Precision: {}'.format(precision_score(v_labels, v_preds, average=\"macro\")))\n",
    "    print('Recall: {}'.format(recall_score(v_labels, v_preds, average=\"macro\")))\n",
    "    print(f'Total Train time for {N_EPOCHS} epochs: {epoch_mins}m {epoch_secs}s')\n",
    "    print(\"------------------------------------------------------------\")\n",
    "    return f1\n",
    "    \n",
    "    "
   ]
  },
  {
   "cell_type": "code",
   "execution_count": 22,
   "id": "8809f1e6",
   "metadata": {},
   "outputs": [
    {
     "name": "stdout",
     "output_type": "stream",
     "text": [
      "F1: 0.7321615005274933\n",
      "Precision: 0.7979085425996042\n",
      "Recall: 0.6993520708456674\n",
      "Total Train time for 1 epochs: 1m 41s\n",
      "------------------------------------------------------------\n"
     ]
    },
    {
     "data": {
      "text/plain": [
       "0.7321615005274933"
      ]
     },
     "execution_count": 22,
     "metadata": {},
     "output_type": "execute_result"
    }
   ],
   "source": [
    "train_model(epochs=1)"
   ]
  },
  {
   "cell_type": "code",
   "execution_count": 23,
   "id": "7ccd089f",
   "metadata": {},
   "outputs": [
    {
     "name": "stdout",
     "output_type": "stream",
     "text": [
      "|   iter    |  target   |   adam    |  epochs   |    lr     |\n",
      "-------------------------------------------------------------\n",
      "F1: 0.7910539301684277\n",
      "Precision: 0.774177770979543\n",
      "Recall: 0.8133883653864507\n",
      "Total Train time for 9 epochs: 15m 35s\n",
      "------------------------------------------------------------\n",
      "| \u001b[0m 1       \u001b[0m | \u001b[0m 0.7911  \u001b[0m | \u001b[0m 0.1915  \u001b[0m | \u001b[0m 8.599   \u001b[0m | \u001b[0m 0.02189 \u001b[0m |\n",
      "F1: 0.7921287963594777\n",
      "Precision: 0.7779814290509286\n",
      "Recall: 0.8098067280408396\n",
      "Total Train time for 10 epochs: 17m 11s\n",
      "------------------------------------------------------------\n",
      "| \u001b[95m 2       \u001b[0m | \u001b[95m 0.7921  \u001b[0m | \u001b[95m 0.7854  \u001b[0m | \u001b[95m 10.02   \u001b[0m | \u001b[95m 0.01364 \u001b[0m |\n",
      "F1: 0.7903696900962036\n",
      "Precision: 0.7750797204622906\n",
      "Recall: 0.809959569829691\n",
      "Total Train time for 10 epochs: 17m 15s\n",
      "------------------------------------------------------------\n",
      "| \u001b[0m 3       \u001b[0m | \u001b[0m 0.7904  \u001b[0m | \u001b[0m 0.2765  \u001b[0m | \u001b[0m 10.22   \u001b[0m | \u001b[0m 0.04791 \u001b[0m |\n",
      "F1: 0.7941959654498039\n",
      "Precision: 0.7855128781634907\n",
      "Recall: 0.8040351362680025\n",
      "Total Train time for 6 epochs: 10m 10s\n",
      "------------------------------------------------------------\n",
      "| \u001b[95m 4       \u001b[0m | \u001b[95m 0.7942  \u001b[0m | \u001b[95m 0.8759  \u001b[0m | \u001b[95m 6.22    \u001b[0m | \u001b[95m 0.02505 \u001b[0m |\n",
      "F1: 0.7932058931911014\n",
      "Precision: 0.7769570191607222\n",
      "Recall: 0.8143532287416404\n",
      "Total Train time for 9 epochs: 15m 8s\n",
      "------------------------------------------------------------\n",
      "| \u001b[0m 5       \u001b[0m | \u001b[0m 0.7932  \u001b[0m | \u001b[0m 0.6835  \u001b[0m | \u001b[0m 9.414   \u001b[0m | \u001b[0m 0.01852 \u001b[0m |\n",
      "F1: 0.7856920037617496\n",
      "Precision: 0.7625321998823611\n",
      "Recall: 0.8223876281518032\n",
      "Total Train time for 6 epochs: 10m 13s\n",
      "------------------------------------------------------------\n",
      "| \u001b[0m 6       \u001b[0m | \u001b[0m 0.7857  \u001b[0m | \u001b[0m 0.8831  \u001b[0m | \u001b[0m 6.044   \u001b[0m | \u001b[0m 0.0251  \u001b[0m |\n",
      "F1: 0.7942047415202709\n",
      "Precision: 0.7808390566332053\n",
      "Recall: 0.8106210241558023\n",
      "Total Train time for 9 epochs: 15m 13s\n",
      "------------------------------------------------------------\n",
      "| \u001b[95m 7       \u001b[0m | \u001b[95m 0.7942  \u001b[0m | \u001b[95m 0.9167  \u001b[0m | \u001b[95m 8.552   \u001b[0m | \u001b[95m 0.01461 \u001b[0m |\n",
      "F1: 0.7843412558832863\n",
      "Precision: 0.7605777199697541\n",
      "Recall: 0.8229840548797611\n",
      "Total Train time for 11 epochs: 18m 33s\n",
      "------------------------------------------------------------\n",
      "| \u001b[0m 8       \u001b[0m | \u001b[0m 0.7843  \u001b[0m | \u001b[0m 0.8882  \u001b[0m | \u001b[0m 11.43   \u001b[0m | \u001b[0m 0.01324 \u001b[0m |\n",
      "F1: 0.7949380350388444\n",
      "Precision: 0.7789072522271513\n",
      "Recall: 0.8156550635638371\n",
      "Total Train time for 4 epochs: 19m 24s\n",
      "------------------------------------------------------------\n",
      "| \u001b[95m 9       \u001b[0m | \u001b[95m 0.7949  \u001b[0m | \u001b[95m 0.2683  \u001b[0m | \u001b[95m 3.795   \u001b[0m | \u001b[95m 0.008889\u001b[0m |\n",
      "F1: 0.7905283052427547\n",
      "Precision: 0.772201627182039\n",
      "Recall: 0.8156119344908621\n",
      "Total Train time for 7 epochs: 12m 27s\n",
      "------------------------------------------------------------\n",
      "| \u001b[0m 10      \u001b[0m | \u001b[0m 0.7905  \u001b[0m | \u001b[0m 0.1682  \u001b[0m | \u001b[0m 6.615   \u001b[0m | \u001b[0m 0.004821\u001b[0m |\n",
      "F1: 0.794083303379743\n",
      "Precision: 0.7764386860980679\n",
      "Recall: 0.8177099435441959\n",
      "Total Train time for 3 epochs: 5m 29s\n",
      "------------------------------------------------------------\n",
      "| \u001b[0m 11      \u001b[0m | \u001b[0m 0.7941  \u001b[0m | \u001b[0m 0.4823  \u001b[0m | \u001b[0m 3.114   \u001b[0m | \u001b[0m 0.0182  \u001b[0m |\n",
      "F1: 0.7828945815007287\n",
      "Precision: 0.7602369717722688\n",
      "Recall: 0.81854616045025\n",
      "Total Train time for 4 epochs: 7m 21s\n",
      "------------------------------------------------------------\n",
      "| \u001b[0m 12      \u001b[0m | \u001b[0m 0.7829  \u001b[0m | \u001b[0m 0.7424  \u001b[0m | \u001b[0m 4.485   \u001b[0m | \u001b[0m 0.03939 \u001b[0m |\n",
      "=============================================================\n"
     ]
    }
   ],
   "source": [
    "from bayes_opt import BayesianOptimization\n",
    "# Bounded region of parameter space\n",
    "pbounds = {'adam':(0,1),'lr': (0.00001, 0.05), 'epochs': (3, 12)}\n",
    "\n",
    "optimizer = BayesianOptimization(\n",
    "    f=train_model,\n",
    "    pbounds=pbounds,\n",
    "    random_state=SEED,\n",
    ")\n",
    "optimizer.maximize(\n",
    "    init_points=5,\n",
    "    n_iter=7,\n",
    ")"
   ]
  },
  {
   "cell_type": "code",
   "execution_count": 34,
   "id": "3313e1e9",
   "metadata": {},
   "outputs": [
    {
     "name": "stdout",
     "output_type": "stream",
     "text": [
      "Iteration 0: \n",
      "\t{'target': 0.7910539301684277, 'params': {'adam': 0.1915194503788923, 'epochs': 8.598978939358487, 'lr': 0.021892009672965652}}\n",
      "Iteration 1: \n",
      "\t{'target': 0.7921287963594777, 'params': {'adam': 0.7853585837137692, 'epochs': 10.019782273069232, 'lr': 0.013636904338079254}}\n",
      "Iteration 2: \n",
      "\t{'target': 0.7903696900962036, 'params': {'adam': 0.2764642551430967, 'epochs': 10.216849597815173, 'lr': 0.047907386290648425}}\n",
      "Iteration 3: \n",
      "\t{'target': 0.7941959654498039, 'params': {'adam': 0.8759326347420947, 'epochs': 6.2203554296208, 'lr': 0.0250547463249177}}\n",
      "Iteration 4: \n",
      "\t{'target': 0.7932058931911014, 'params': {'adam': 0.6834629351721363, 'epochs': 9.414318242846102, 'lr': 0.018518835231971842}}\n",
      "Iteration 5: \n",
      "\t{'target': 0.7856920037617496, 'params': {'adam': 0.8830584948954096, 'epochs': 6.044450951635342, 'lr': 0.025103841296604194}}\n",
      "Iteration 6: \n",
      "\t{'target': 0.7942047415202709, 'params': {'adam': 0.9167281615240777, 'epochs': 8.552157187446348, 'lr': 0.014613657887185764}}\n",
      "Iteration 7: \n",
      "\t{'target': 0.7843412558832863, 'params': {'adam': 0.8881846621228777, 'epochs': 11.432080647081115, 'lr': 0.013241672714464778}}\n",
      "Iteration 8: \n",
      "\t{'target': 0.7949380350388444, 'params': {'adam': 0.26825798565095393, 'epochs': 3.795299442287926, 'lr': 0.008888927807508653}}\n",
      "Iteration 9: \n",
      "\t{'target': 0.7905283052427547, 'params': {'adam': 0.168244435377489, 'epochs': 6.615186743326149, 'lr': 0.004821331731130997}}\n",
      "Iteration 10: \n",
      "\t{'target': 0.794083303379743, 'params': {'adam': 0.4823406418236492, 'epochs': 3.114488707478259, 'lr': 0.01820113790957291}}\n",
      "Iteration 11: \n",
      "\t{'target': 0.7828945815007287, 'params': {'adam': 0.7423548737973155, 'epochs': 4.484955438355787, 'lr': 0.03939002186521719}}\n"
     ]
    }
   ],
   "source": [
    "bayes_values=[]\n",
    "bayes_params=[]\n",
    "for i, res in enumerate(optimizer.res):\n",
    "    bayes_values.append(res['target'])\n",
    "    bayes_params.append(f\"Iteration {i}\")\n",
    "    print(\"Iteration {}: \\n\\t{}\".format(i, res))"
   ]
  },
  {
   "cell_type": "code",
   "execution_count": 61,
   "id": "d35b6c97",
   "metadata": {},
   "outputs": [
    {
     "name": "stdout",
     "output_type": "stream",
     "text": [
      "best params: {'target': 0.7949380350388444, 'params': {'adam': 0.26825798565095393, 'epochs': 3.795299442287926, 'lr': 0.008888927807508653}}\n"
     ]
    },
    {
     "data": {
      "image/png": "[encoded data removed]",
      "text/plain": [
       "<Figure size 432x288 with 1 Axes>"
      ]
     },
     "metadata": {
      "needs_background": "light"
     },
     "output_type": "display_data"
    }
   ],
   "source": [
    "import matplotlib.pyplot as plt\n",
    "import math\n",
    "fig, ax = plt.subplots(1, 1)\n",
    "\n",
    "plt.ylim([0.779, 0.795])\n",
    "fig.suptitle('Bayesian Optimization runs for F1 Score')\n",
    "plt.setp(ax.get_xticklabels(), rotation=30, horizontalalignment='right')\n",
    "ax.bar(bayes_params, bayes_values)\n",
    "print('best params: {}'.format(optimizer.max))"
   ]
  },
  {
   "cell_type": "code",
   "execution_count": 59,
   "id": "ace4f873",
   "metadata": {},
   "outputs": [],
   "source": [
    "def train_model_save(adam=0,lr=0.001,epochs=5):\n",
    "    # use base adam if adam <=0.5 otherwise use adamW with weight decay\n",
    "    model = FastText(INPUT_DIM, EMBEDDING_DIM, OUTPUT_DIM, PAD_IDX)\n",
    "    pretrained_embeddings = TEXT.vocab.vectors\n",
    "    model.embedding.weight.data.copy_(pretrained_embeddings)\n",
    "    UNK_IDX = TEXT.vocab.stoi[TEXT.unk_token]\n",
    "    model.embedding.weight.data[UNK_IDX] = torch.zeros(EMBEDDING_DIM)\n",
    "    model.embedding.weight.data[PAD_IDX] = torch.zeros(EMBEDDING_DIM)\n",
    "    optimizer = optim.Adam(model.parameters(),lr=lr) if adam<=0.5 else optim.AdamW(model.parameters(),lr=lr)\n",
    "    criterion = nn.BCEWithLogitsLoss()\n",
    "    model = model.to(device)\n",
    "    criterion = criterion.to(device)\n",
    "    N_EPOCHS = round(epochs)\n",
    "    start_time = time.time()\n",
    "\n",
    "    best_valid_f1 = 0\n",
    "\n",
    "    for epoch in tqdm(range(N_EPOCHS)):\n",
    "\n",
    "        start_time = time.time()\n",
    "\n",
    "        train_loss, train_acc, t_preds, t_labels = train(model, train_iter, optimizer, criterion)\n",
    "        valid_loss, valid_acc, v_preds, v_labels = evaluate(model, val_iter, criterion)\n",
    "        \n",
    "        end_time = time.time()\n",
    "\n",
    "        epoch_mins, epoch_secs = epoch_time(start_time, end_time)\n",
    "        f1 = f1_score(v_labels, v_preds, average=\"macro\")\n",
    "        print('F1: {}'.format(f1))\n",
    "        print('Precision: {}'.format(precision_score(v_labels, v_preds, average=\"macro\")))\n",
    "        print('Recall: {}'.format(recall_score(v_labels, v_preds, average=\"macro\")))\n",
    "        if f1 > best_valid_f1:\n",
    "            best_valid_f1 = f1\n",
    "            torch.save(model.state_dict(), 'sentiment.pt')\n",
    "\n",
    "        print(f'Epoch: {epoch+1:02} | Epoch Time: {epoch_mins}m {epoch_secs}s')\n",
    "        print(f'\\tTrain Loss: {train_loss:.3f} | Train Acc: {train_acc*100:.2f}%')\n",
    "        print(f'\\t Val. Loss: {valid_loss:.3f} |  Val. Acc: {valid_acc*100:.2f}%')\n",
    "    return model"
   ]
  },
  {
   "cell_type": "code",
   "execution_count": 60,
   "id": "45d8715a",
   "metadata": {},
   "outputs": [
    {
     "data": {
      "application/vnd.jupyter.widget-view+json": {
       "model_id": "f3dde84f7bf74d728d23518fa0278c1c",
       "version_major": 2,
       "version_minor": 0
      },
      "text/plain": [
       "  0%|          | 0/4 [00:00<?, ?it/s]"
      ]
     },
     "metadata": {},
     "output_type": "display_data"
    },
    {
     "name": "stdout",
     "output_type": "stream",
     "text": [
      "F1: 0.7935477134470768\n",
      "Precision: 0.7736405458699798\n",
      "Recall: 0.8216740604569269\n",
      "Epoch: 01 | Epoch Time: 1m 42s\n",
      "\tTrain Loss: 0.319 | Train Acc: 87.05%\n",
      "\t Val. Loss: 1.115 |  Val. Acc: 87.06%\n",
      "F1: 0.7992317756188959\n",
      "Precision: 0.7873363799156717\n",
      "Recall: 0.8133940192155238\n",
      "Epoch: 02 | Epoch Time: 1m 42s\n",
      "\tTrain Loss: 0.274 | Train Acc: 89.06%\n",
      "\t Val. Loss: 1.185 |  Val. Acc: 87.93%\n",
      "F1: 0.7972328869179227\n",
      "Precision: 0.7989828354643067\n",
      "Recall: 0.795521169347366\n",
      "Epoch: 03 | Epoch Time: 1m 43s\n",
      "\tTrain Loss: 0.266 | Train Acc: 89.43%\n",
      "\t Val. Loss: 1.140 |  Val. Acc: 88.41%\n",
      "F1: 0.7903502491860268\n",
      "Precision: 0.7698335870529356\n",
      "Recall: 0.8200086609604819\n",
      "Epoch: 04 | Epoch Time: 1m 45s\n",
      "\tTrain Loss: 0.261 | Train Acc: 89.57%\n",
      "\t Val. Loss: 1.253 |  Val. Acc: 86.79%\n"
     ]
    }
   ],
   "source": [
    "model = train_model_save(adam= optimizer.max['params']['adam'], lr=optimizer.max['params']['lr'],\n",
    "                 epochs=optimizer.max['params']['epochs'])"
   ]
  },
  {
   "cell_type": "code",
   "execution_count": 63,
   "id": "93f903e2",
   "metadata": {},
   "outputs": [
    {
     "name": "stdout",
     "output_type": "stream",
     "text": [
      "Test Loss: 1.197 | Test Acc: 87.98%\n"
     ]
    }
   ],
   "source": [
    "model.load_state_dict(torch.load('sentiment.pt'))\n",
    "criterion = nn.BCEWithLogitsLoss()\n",
    "test_loss, test_acc, t_preds, t_labels = evaluate(model, test_iter, criterion)\n",
    "\n",
    "print(f'Test Loss: {test_loss:.3f} | Test Acc: {test_acc*100:.2f}%')"
   ]
  },
  {
   "cell_type": "code",
   "execution_count": 64,
   "id": "e66b3f8c",
   "metadata": {},
   "outputs": [],
   "source": [
    "import spacy\n",
    "nlp = spacy.load('en_core_web_sm')\n",
    "\n",
    "def predict_sentiment(model, sentence):\n",
    "    model.eval()\n",
    "    tokenized = generate_bigrams([tok.text for tok in nlp.tokenizer(sentence)])\n",
    "    indexed = [TEXT.vocab.stoi[t] for t in tokenized]\n",
    "    tensor = torch.LongTensor(indexed).to(device)\n",
    "    tensor = tensor.unsqueeze(1)\n",
    "    prediction = torch.sigmoid(model(tensor))\n",
    "    return prediction.item()"
   ]
  },
  {
   "cell_type": "code",
   "execution_count": 76,
   "id": "47fde58d",
   "metadata": {},
   "outputs": [
    {
     "data": {
      "text/plain": [
       "1.0"
      ]
     },
     "execution_count": 76,
     "metadata": {},
     "output_type": "execute_result"
    }
   ],
   "source": [
    "predict_sentiment(model, \"this is mediocre at best\")"
   ]
  },
  {
   "cell_type": "code",
   "execution_count": 88,
   "id": "78b006ef",
   "metadata": {},
   "outputs": [
    {
     "data": {
      "text/plain": [
       "8.469452950521372e-06"
      ]
     },
     "execution_count": 88,
     "metadata": {},
     "output_type": "execute_result"
    }
   ],
   "source": [
    "predict_sentiment(model, \"I am so impressed with this item\")"
   ]
  },
  {
   "cell_type": "markdown",
   "id": "b98c4284",
   "metadata": {},
   "source": [
    "# Problems\n",
    "- Some words are not processed correctly: with f1 score tuning sentiments seem to be reversed?"
   ]
  },
  {
   "cell_type": "code",
   "execution_count": 91,
   "id": "9bf4f375",
   "metadata": {},
   "outputs": [
    {
     "data": {
      "text/html": [
       "<div>\n",
       "<style scoped>\n",
       "    .dataframe tbody tr th:only-of-type {\n",
       "        vertical-align: middle;\n",
       "    }\n",
       "\n",
       "    .dataframe tbody tr th {\n",
       "        vertical-align: top;\n",
       "    }\n",
       "\n",
       "    .dataframe thead th {\n",
       "        text-align: right;\n",
       "    }\n",
       "</style>\n",
       "<table border=\"1\" class=\"dataframe\">\n",
       "  <thead>\n",
       "    <tr style=\"text-align: right;\">\n",
       "      <th></th>\n",
       "      <th>Text</th>\n",
       "      <th>Helpfulness</th>\n",
       "      <th>Rating</th>\n",
       "    </tr>\n",
       "  </thead>\n",
       "  <tbody>\n",
       "    <tr>\n",
       "      <th>0</th>\n",
       "      <td>['daughter', 'wanted', 'book', 'price', 'Amazo...</td>\n",
       "      <td>1.000000</td>\n",
       "      <td>1</td>\n",
       "    </tr>\n",
       "    <tr>\n",
       "      <th>1</th>\n",
       "      <td>['bought', 'zoku', 'quick', 'pop', 'daughterr'...</td>\n",
       "      <td>1.000000</td>\n",
       "      <td>1</td>\n",
       "    </tr>\n",
       "    <tr>\n",
       "      <th>2</th>\n",
       "      <td>['shortage', 'pop', 'recipes', 'available', 'f...</td>\n",
       "      <td>2.059259</td>\n",
       "      <td>1</td>\n",
       "    </tr>\n",
       "    <tr>\n",
       "      <th>3</th>\n",
       "      <td>['book', 'must', 'get', 'Zoku', 'also', 'highl...</td>\n",
       "      <td>1.855556</td>\n",
       "      <td>1</td>\n",
       "    </tr>\n",
       "    <tr>\n",
       "      <th>4</th>\n",
       "      <td>['cookbook', 'great', 'really', 'enjoyed', 're...</td>\n",
       "      <td>1.000000</td>\n",
       "      <td>1</td>\n",
       "    </tr>\n",
       "  </tbody>\n",
       "</table>\n",
       "</div>"
      ],
      "text/plain": [
       "                                                Text  Helpfulness  Rating\n",
       "0  ['daughter', 'wanted', 'book', 'price', 'Amazo...     1.000000       1\n",
       "1  ['bought', 'zoku', 'quick', 'pop', 'daughterr'...     1.000000       1\n",
       "2  ['shortage', 'pop', 'recipes', 'available', 'f...     2.059259       1\n",
       "3  ['book', 'must', 'get', 'Zoku', 'also', 'highl...     1.855556       1\n",
       "4  ['cookbook', 'great', 'really', 'enjoyed', 're...     1.000000       1"
      ]
     },
     "execution_count": 91,
     "metadata": {},
     "output_type": "execute_result"
    }
   ],
   "source": [
    "import pandas as pd\n",
    "df= pd.read_csv(\"Tokenized.csv\")\n",
    "df.head()"
   ]
  },
  {
   "cell_type": "code",
   "execution_count": 92,
   "id": "ec727370",
   "metadata": {},
   "outputs": [],
   "source": [
    "df[\"Prediction\"]= df[\"Text\"].map(lambda x:predict_sentiment(model, x))"
   ]
  },
  {
   "cell_type": "code",
   "execution_count": 93,
   "id": "c94faf78",
   "metadata": {},
   "outputs": [],
   "source": [
    "df[\"Scaled_Prediction\"]= df.apply(lambda row:(row['Prediction']*row['Helpfulness']), axis=1)"
   ]
  },
  {
   "cell_type": "code",
   "execution_count": 94,
   "id": "eb238c95",
   "metadata": {},
   "outputs": [
    {
     "data": {
      "text/html": [
       "<div>\n",
       "<style scoped>\n",
       "    .dataframe tbody tr th:only-of-type {\n",
       "        vertical-align: middle;\n",
       "    }\n",
       "\n",
       "    .dataframe tbody tr th {\n",
       "        vertical-align: top;\n",
       "    }\n",
       "\n",
       "    .dataframe thead th {\n",
       "        text-align: right;\n",
       "    }\n",
       "</style>\n",
       "<table border=\"1\" class=\"dataframe\">\n",
       "  <thead>\n",
       "    <tr style=\"text-align: right;\">\n",
       "      <th></th>\n",
       "      <th>Text</th>\n",
       "      <th>Helpfulness</th>\n",
       "      <th>Rating</th>\n",
       "      <th>Prediction</th>\n",
       "      <th>Scaled_Prediction</th>\n",
       "    </tr>\n",
       "  </thead>\n",
       "  <tbody>\n",
       "    <tr>\n",
       "      <th>0</th>\n",
       "      <td>['daughter', 'wanted', 'book', 'price', 'Amazo...</td>\n",
       "      <td>1.000000</td>\n",
       "      <td>1</td>\n",
       "      <td>2.246930e-18</td>\n",
       "      <td>2.246930e-18</td>\n",
       "    </tr>\n",
       "    <tr>\n",
       "      <th>1</th>\n",
       "      <td>['bought', 'zoku', 'quick', 'pop', 'daughterr'...</td>\n",
       "      <td>1.000000</td>\n",
       "      <td>1</td>\n",
       "      <td>2.309569e-19</td>\n",
       "      <td>2.309569e-19</td>\n",
       "    </tr>\n",
       "    <tr>\n",
       "      <th>2</th>\n",
       "      <td>['shortage', 'pop', 'recipes', 'available', 'f...</td>\n",
       "      <td>2.059259</td>\n",
       "      <td>1</td>\n",
       "      <td>5.153782e-05</td>\n",
       "      <td>1.061297e-04</td>\n",
       "    </tr>\n",
       "    <tr>\n",
       "      <th>3</th>\n",
       "      <td>['book', 'must', 'get', 'Zoku', 'also', 'highl...</td>\n",
       "      <td>1.855556</td>\n",
       "      <td>1</td>\n",
       "      <td>1.337574e-26</td>\n",
       "      <td>2.481943e-26</td>\n",
       "    </tr>\n",
       "    <tr>\n",
       "      <th>4</th>\n",
       "      <td>['cookbook', 'great', 'really', 'enjoyed', 're...</td>\n",
       "      <td>1.000000</td>\n",
       "      <td>1</td>\n",
       "      <td>9.742831e-14</td>\n",
       "      <td>9.742831e-14</td>\n",
       "    </tr>\n",
       "  </tbody>\n",
       "</table>\n",
       "</div>"
      ],
      "text/plain": [
       "                                                Text  Helpfulness  Rating  \\\n",
       "0  ['daughter', 'wanted', 'book', 'price', 'Amazo...     1.000000       1   \n",
       "1  ['bought', 'zoku', 'quick', 'pop', 'daughterr'...     1.000000       1   \n",
       "2  ['shortage', 'pop', 'recipes', 'available', 'f...     2.059259       1   \n",
       "3  ['book', 'must', 'get', 'Zoku', 'also', 'highl...     1.855556       1   \n",
       "4  ['cookbook', 'great', 'really', 'enjoyed', 're...     1.000000       1   \n",
       "\n",
       "     Prediction  Scaled_Prediction  \n",
       "0  2.246930e-18       2.246930e-18  \n",
       "1  2.309569e-19       2.309569e-19  \n",
       "2  5.153782e-05       1.061297e-04  \n",
       "3  1.337574e-26       2.481943e-26  \n",
       "4  9.742831e-14       9.742831e-14  "
      ]
     },
     "execution_count": 94,
     "metadata": {},
     "output_type": "execute_result"
    }
   ],
   "source": [
    "df.head()"
   ]
  },
  {
   "cell_type": "code",
   "execution_count": 95,
   "id": "f8af0f31",
   "metadata": {},
   "outputs": [],
   "source": [
    "df.to_csv(\"results.csv\",index=False)"
   ]
  },
  {
   "cell_type": "code",
   "execution_count": 96,
   "id": "1e0375e9",
   "metadata": {},
   "outputs": [
    {
     "data": {
      "text/plain": [
       "1    455204\n",
       "0     96478\n",
       "Name: Rating, dtype: int64"
      ]
     },
     "execution_count": 96,
     "metadata": {},
     "output_type": "execute_result"
    }
   ],
   "source": [
    "df.Rating.value_counts()"
   ]
  },
  {
   "cell_type": "code",
   "execution_count": null,
   "id": "212352bc",
   "metadata": {},
   "outputs": [],
   "source": []
  }
 ],
 "metadata": {
  "kernelspec": {
   "display_name": "Python 3",
   "language": "python",
   "name": "python3"
  },
  "language_info": {
   "codemirror_mode": {
    "name": "ipython",
    "version": 3
   },
   "file_extension": ".py",
   "mimetype": "text/x-python",
   "name": "python",
   "nbconvert_exporter": "python",
   "pygments_lexer": "ipython3",
   "version": "3.7.9"
  }
 },
 "nbformat": 4,
 "nbformat_minor": 5
}
