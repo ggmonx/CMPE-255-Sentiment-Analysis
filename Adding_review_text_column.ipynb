{
 "cells": [
  {
   "cell_type": "code",
   "execution_count": 1,
   "metadata": {},
   "outputs": [],
   "source": [
    "import json\n",
    "import pandas as pd"
   ]
  },
  {
   "cell_type": "code",
   "execution_count": 2,
   "metadata": {},
   "outputs": [],
   "source": [
    "path = \"Home_and_Kitchen_5.json\""
   ]
  },
  {
   "cell_type": "code",
   "execution_count": 3,
   "metadata": {},
   "outputs": [],
   "source": [
    "with open(path, encoding='utf-8') as f:\n",
    "    data = [json.loads(line) for line in f.readlines()]"
   ]
  },
  {
   "cell_type": "code",
   "execution_count": 4,
   "metadata": {},
   "outputs": [],
   "source": [
    "review_texts = [line['reviewText'] for line in data]"
   ]
  },
  {
   "cell_type": "code",
   "execution_count": 9,
   "metadata": {},
   "outputs": [],
   "source": [
    "num_voted = [line['helpful'][1] for line in data]"
   ]
  },
  {
   "cell_type": "code",
   "execution_count": 5,
   "metadata": {},
   "outputs": [],
   "source": [
    "df = pd.read_csv(\"results.csv\")"
   ]
  },
  {
   "cell_type": "code",
   "execution_count": 6,
   "metadata": {},
   "outputs": [
    {
     "data": {
      "text/html": [
       "<div>\n",
       "<style scoped>\n",
       "    .dataframe tbody tr th:only-of-type {\n",
       "        vertical-align: middle;\n",
       "    }\n",
       "\n",
       "    .dataframe tbody tr th {\n",
       "        vertical-align: top;\n",
       "    }\n",
       "\n",
       "    .dataframe thead th {\n",
       "        text-align: right;\n",
       "    }\n",
       "</style>\n",
       "<table border=\"1\" class=\"dataframe\">\n",
       "  <thead>\n",
       "    <tr style=\"text-align: right;\">\n",
       "      <th></th>\n",
       "      <th>Text</th>\n",
       "      <th>Helpfulness</th>\n",
       "      <th>Rating</th>\n",
       "      <th>Prediction</th>\n",
       "      <th>Scaled_Prediction</th>\n",
       "    </tr>\n",
       "  </thead>\n",
       "  <tbody>\n",
       "    <tr>\n",
       "      <th>0</th>\n",
       "      <td>['daughter', 'wanted', 'book', 'price', 'Amazo...</td>\n",
       "      <td>1.000000</td>\n",
       "      <td>1</td>\n",
       "      <td>4.248338e-06</td>\n",
       "      <td>4.248338e-06</td>\n",
       "    </tr>\n",
       "    <tr>\n",
       "      <th>1</th>\n",
       "      <td>['bought', 'zoku', 'quick', 'pop', 'daughterr'...</td>\n",
       "      <td>1.000000</td>\n",
       "      <td>1</td>\n",
       "      <td>4.967793e-08</td>\n",
       "      <td>4.967793e-08</td>\n",
       "    </tr>\n",
       "    <tr>\n",
       "      <th>2</th>\n",
       "      <td>['shortage', 'pop', 'recipes', 'available', 'f...</td>\n",
       "      <td>2.059259</td>\n",
       "      <td>1</td>\n",
       "      <td>6.930113e-02</td>\n",
       "      <td>1.427090e-01</td>\n",
       "    </tr>\n",
       "    <tr>\n",
       "      <th>3</th>\n",
       "      <td>['book', 'must', 'get', 'Zoku', 'also', 'highl...</td>\n",
       "      <td>1.855556</td>\n",
       "      <td>1</td>\n",
       "      <td>4.921978e-06</td>\n",
       "      <td>9.133004e-06</td>\n",
       "    </tr>\n",
       "    <tr>\n",
       "      <th>4</th>\n",
       "      <td>['cookbook', 'great', 'really', 'enjoyed', 're...</td>\n",
       "      <td>1.000000</td>\n",
       "      <td>1</td>\n",
       "      <td>4.853047e-04</td>\n",
       "      <td>4.853047e-04</td>\n",
       "    </tr>\n",
       "  </tbody>\n",
       "</table>\n",
       "</div>"
      ],
      "text/plain": [
       "                                                Text  Helpfulness  Rating  \\\n",
       "0  ['daughter', 'wanted', 'book', 'price', 'Amazo...     1.000000       1   \n",
       "1  ['bought', 'zoku', 'quick', 'pop', 'daughterr'...     1.000000       1   \n",
       "2  ['shortage', 'pop', 'recipes', 'available', 'f...     2.059259       1   \n",
       "3  ['book', 'must', 'get', 'Zoku', 'also', 'highl...     1.855556       1   \n",
       "4  ['cookbook', 'great', 'really', 'enjoyed', 're...     1.000000       1   \n",
       "\n",
       "     Prediction  Scaled_Prediction  \n",
       "0  4.248338e-06       4.248338e-06  \n",
       "1  4.967793e-08       4.967793e-08  \n",
       "2  6.930113e-02       1.427090e-01  \n",
       "3  4.921978e-06       9.133004e-06  \n",
       "4  4.853047e-04       4.853047e-04  "
      ]
     },
     "execution_count": 6,
     "metadata": {},
     "output_type": "execute_result"
    }
   ],
   "source": [
    "df.head()"
   ]
  },
  {
   "cell_type": "code",
   "execution_count": 14,
   "metadata": {},
   "outputs": [],
   "source": [
    "df[\"Text_Review\"] = review_texts"
   ]
  },
  {
   "cell_type": "code",
   "execution_count": 12,
   "metadata": {},
   "outputs": [],
   "source": [
    "df[\"num_voted\"] = num_voted"
   ]
  },
  {
   "cell_type": "code",
   "execution_count": 15,
   "metadata": {},
   "outputs": [
    {
     "data": {
      "text/html": [
       "<div>\n",
       "<style scoped>\n",
       "    .dataframe tbody tr th:only-of-type {\n",
       "        vertical-align: middle;\n",
       "    }\n",
       "\n",
       "    .dataframe tbody tr th {\n",
       "        vertical-align: top;\n",
       "    }\n",
       "\n",
       "    .dataframe thead th {\n",
       "        text-align: right;\n",
       "    }\n",
       "</style>\n",
       "<table border=\"1\" class=\"dataframe\">\n",
       "  <thead>\n",
       "    <tr style=\"text-align: right;\">\n",
       "      <th></th>\n",
       "      <th>Text</th>\n",
       "      <th>Helpfulness</th>\n",
       "      <th>Rating</th>\n",
       "      <th>Prediction</th>\n",
       "      <th>Scaled_Prediction</th>\n",
       "      <th>num_voted</th>\n",
       "      <th>Text_Review</th>\n",
       "    </tr>\n",
       "  </thead>\n",
       "  <tbody>\n",
       "    <tr>\n",
       "      <th>0</th>\n",
       "      <td>['daughter', 'wanted', 'book', 'price', 'Amazo...</td>\n",
       "      <td>1.000000</td>\n",
       "      <td>1</td>\n",
       "      <td>4.248338e-06</td>\n",
       "      <td>4.248338e-06</td>\n",
       "      <td>0</td>\n",
       "      <td>My daughter wanted this book and the price on ...</td>\n",
       "    </tr>\n",
       "    <tr>\n",
       "      <th>1</th>\n",
       "      <td>['bought', 'zoku', 'quick', 'pop', 'daughterr'...</td>\n",
       "      <td>1.000000</td>\n",
       "      <td>1</td>\n",
       "      <td>4.967793e-08</td>\n",
       "      <td>4.967793e-08</td>\n",
       "      <td>0</td>\n",
       "      <td>I bought this zoku quick pop for my daughterr ...</td>\n",
       "    </tr>\n",
       "    <tr>\n",
       "      <th>2</th>\n",
       "      <td>['shortage', 'pop', 'recipes', 'available', 'f...</td>\n",
       "      <td>2.059259</td>\n",
       "      <td>1</td>\n",
       "      <td>6.930113e-02</td>\n",
       "      <td>1.427090e-01</td>\n",
       "      <td>27</td>\n",
       "      <td>There is no shortage of pop recipes available ...</td>\n",
       "    </tr>\n",
       "    <tr>\n",
       "      <th>3</th>\n",
       "      <td>['book', 'must', 'get', 'Zoku', 'also', 'highl...</td>\n",
       "      <td>1.855556</td>\n",
       "      <td>1</td>\n",
       "      <td>4.921978e-06</td>\n",
       "      <td>9.133004e-06</td>\n",
       "      <td>18</td>\n",
       "      <td>This book is a must have if you get a Zoku (wh...</td>\n",
       "    </tr>\n",
       "    <tr>\n",
       "      <th>4</th>\n",
       "      <td>['cookbook', 'great', 'really', 'enjoyed', 're...</td>\n",
       "      <td>1.000000</td>\n",
       "      <td>1</td>\n",
       "      <td>4.853047e-04</td>\n",
       "      <td>4.853047e-04</td>\n",
       "      <td>0</td>\n",
       "      <td>This cookbook is great.  I have really enjoyed...</td>\n",
       "    </tr>\n",
       "  </tbody>\n",
       "</table>\n",
       "</div>"
      ],
      "text/plain": [
       "                                                Text  Helpfulness  Rating  \\\n",
       "0  ['daughter', 'wanted', 'book', 'price', 'Amazo...     1.000000       1   \n",
       "1  ['bought', 'zoku', 'quick', 'pop', 'daughterr'...     1.000000       1   \n",
       "2  ['shortage', 'pop', 'recipes', 'available', 'f...     2.059259       1   \n",
       "3  ['book', 'must', 'get', 'Zoku', 'also', 'highl...     1.855556       1   \n",
       "4  ['cookbook', 'great', 'really', 'enjoyed', 're...     1.000000       1   \n",
       "\n",
       "     Prediction  Scaled_Prediction  num_voted  \\\n",
       "0  4.248338e-06       4.248338e-06          0   \n",
       "1  4.967793e-08       4.967793e-08          0   \n",
       "2  6.930113e-02       1.427090e-01         27   \n",
       "3  4.921978e-06       9.133004e-06         18   \n",
       "4  4.853047e-04       4.853047e-04          0   \n",
       "\n",
       "                                         Text_Review  \n",
       "0  My daughter wanted this book and the price on ...  \n",
       "1  I bought this zoku quick pop for my daughterr ...  \n",
       "2  There is no shortage of pop recipes available ...  \n",
       "3  This book is a must have if you get a Zoku (wh...  \n",
       "4  This cookbook is great.  I have really enjoyed...  "
      ]
     },
     "execution_count": 15,
     "metadata": {},
     "output_type": "execute_result"
    }
   ],
   "source": [
    "df.head()"
   ]
  },
  {
   "cell_type": "code",
   "execution_count": 16,
   "metadata": {},
   "outputs": [],
   "source": [
    "df.rename(columns = {'Text': 'Tokenized_Review'}, inplace = True)"
   ]
  },
  {
   "cell_type": "code",
   "execution_count": 17,
   "metadata": {},
   "outputs": [
    {
     "data": {
      "text/html": [
       "<div>\n",
       "<style scoped>\n",
       "    .dataframe tbody tr th:only-of-type {\n",
       "        vertical-align: middle;\n",
       "    }\n",
       "\n",
       "    .dataframe tbody tr th {\n",
       "        vertical-align: top;\n",
       "    }\n",
       "\n",
       "    .dataframe thead th {\n",
       "        text-align: right;\n",
       "    }\n",
       "</style>\n",
       "<table border=\"1\" class=\"dataframe\">\n",
       "  <thead>\n",
       "    <tr style=\"text-align: right;\">\n",
       "      <th></th>\n",
       "      <th>Tokenized_Review</th>\n",
       "      <th>Helpfulness</th>\n",
       "      <th>Rating</th>\n",
       "      <th>Prediction</th>\n",
       "      <th>Scaled_Prediction</th>\n",
       "      <th>num_voted</th>\n",
       "      <th>Text_Review</th>\n",
       "    </tr>\n",
       "  </thead>\n",
       "  <tbody>\n",
       "    <tr>\n",
       "      <th>0</th>\n",
       "      <td>['daughter', 'wanted', 'book', 'price', 'Amazo...</td>\n",
       "      <td>1.000000</td>\n",
       "      <td>1</td>\n",
       "      <td>4.248338e-06</td>\n",
       "      <td>4.248338e-06</td>\n",
       "      <td>0</td>\n",
       "      <td>My daughter wanted this book and the price on ...</td>\n",
       "    </tr>\n",
       "    <tr>\n",
       "      <th>1</th>\n",
       "      <td>['bought', 'zoku', 'quick', 'pop', 'daughterr'...</td>\n",
       "      <td>1.000000</td>\n",
       "      <td>1</td>\n",
       "      <td>4.967793e-08</td>\n",
       "      <td>4.967793e-08</td>\n",
       "      <td>0</td>\n",
       "      <td>I bought this zoku quick pop for my daughterr ...</td>\n",
       "    </tr>\n",
       "    <tr>\n",
       "      <th>2</th>\n",
       "      <td>['shortage', 'pop', 'recipes', 'available', 'f...</td>\n",
       "      <td>2.059259</td>\n",
       "      <td>1</td>\n",
       "      <td>6.930113e-02</td>\n",
       "      <td>1.427090e-01</td>\n",
       "      <td>27</td>\n",
       "      <td>There is no shortage of pop recipes available ...</td>\n",
       "    </tr>\n",
       "    <tr>\n",
       "      <th>3</th>\n",
       "      <td>['book', 'must', 'get', 'Zoku', 'also', 'highl...</td>\n",
       "      <td>1.855556</td>\n",
       "      <td>1</td>\n",
       "      <td>4.921978e-06</td>\n",
       "      <td>9.133004e-06</td>\n",
       "      <td>18</td>\n",
       "      <td>This book is a must have if you get a Zoku (wh...</td>\n",
       "    </tr>\n",
       "    <tr>\n",
       "      <th>4</th>\n",
       "      <td>['cookbook', 'great', 'really', 'enjoyed', 're...</td>\n",
       "      <td>1.000000</td>\n",
       "      <td>1</td>\n",
       "      <td>4.853047e-04</td>\n",
       "      <td>4.853047e-04</td>\n",
       "      <td>0</td>\n",
       "      <td>This cookbook is great.  I have really enjoyed...</td>\n",
       "    </tr>\n",
       "  </tbody>\n",
       "</table>\n",
       "</div>"
      ],
      "text/plain": [
       "                                    Tokenized_Review  Helpfulness  Rating  \\\n",
       "0  ['daughter', 'wanted', 'book', 'price', 'Amazo...     1.000000       1   \n",
       "1  ['bought', 'zoku', 'quick', 'pop', 'daughterr'...     1.000000       1   \n",
       "2  ['shortage', 'pop', 'recipes', 'available', 'f...     2.059259       1   \n",
       "3  ['book', 'must', 'get', 'Zoku', 'also', 'highl...     1.855556       1   \n",
       "4  ['cookbook', 'great', 'really', 'enjoyed', 're...     1.000000       1   \n",
       "\n",
       "     Prediction  Scaled_Prediction  num_voted  \\\n",
       "0  4.248338e-06       4.248338e-06          0   \n",
       "1  4.967793e-08       4.967793e-08          0   \n",
       "2  6.930113e-02       1.427090e-01         27   \n",
       "3  4.921978e-06       9.133004e-06         18   \n",
       "4  4.853047e-04       4.853047e-04          0   \n",
       "\n",
       "                                         Text_Review  \n",
       "0  My daughter wanted this book and the price on ...  \n",
       "1  I bought this zoku quick pop for my daughterr ...  \n",
       "2  There is no shortage of pop recipes available ...  \n",
       "3  This book is a must have if you get a Zoku (wh...  \n",
       "4  This cookbook is great.  I have really enjoyed...  "
      ]
     },
     "execution_count": 17,
     "metadata": {},
     "output_type": "execute_result"
    }
   ],
   "source": [
    "df.head()"
   ]
  },
  {
   "cell_type": "code",
   "execution_count": 18,
   "metadata": {},
   "outputs": [],
   "source": [
    "df.to_csv(\"result/result_csv.csv\", index=False)"
   ]
  }
 ],
 "metadata": {
  "kernelspec": {
   "display_name": "Python 3",
   "language": "python",
   "name": "python3"
  },
  "language_info": {
   "codemirror_mode": {
    "name": "ipython",
    "version": 3
   },
   "file_extension": ".py",
   "mimetype": "text/x-python",
   "name": "python",
   "nbconvert_exporter": "python",
   "pygments_lexer": "ipython3",
   "version": "3.8.3"
  }
 },
 "nbformat": 4,
 "nbformat_minor": 4
}
